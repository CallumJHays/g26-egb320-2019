{
 "cells": [
  {
   "cell_type": "code",
   "execution_count": 1,
   "metadata": {},
   "outputs": [],
   "source": [
    "import sys\n",
    "sys.path.append('..')"
   ]
  },
  {
   "cell_type": "code",
   "execution_count": 2,
   "metadata": {},
   "outputs": [],
   "source": [
    "from VisionSystem.VisualObject import VisualObject\n",
    "from VisionSystem.DataSet import DataSet"
   ]
  },
  {
   "cell_type": "code",
   "execution_count": 3,
   "metadata": {},
   "outputs": [],
   "source": [
    "dataset = DataSet(\"../data/calibration\")"
   ]
  },
  {
   "cell_type": "code",
   "execution_count": 4,
   "metadata": {},
   "outputs": [],
   "source": [
    "from matplotlib import pyplot as plt\n",
    "%matplotlib inline"
   ]
  },
  {
   "cell_type": "code",
   "execution_count": 5,
   "metadata": {},
   "outputs": [],
   "source": [
    "from DisplayPane import DisplayPane"
   ]
  },
  {
   "cell_type": "code",
   "execution_count": 6,
   "metadata": {},
   "outputs": [],
   "source": [
    "from VisionSystem.DetectionModel import ThreshBlob\n",
    "\n",
    "def load_or_create_new_threshblob(path):\n",
    "    try:\n",
    "        model = ThreshBlob.load(path)\n",
    "        print(\"Loaded \" + path)\n",
    "    except Exception:\n",
    "        model = ThreshBlob()\n",
    "    finally:\n",
    "        return model"
   ]
  },
  {
   "cell_type": "code",
   "execution_count": 7,
   "metadata": {},
   "outputs": [
    {
     "data": {
      "text/plain": [
       "<VisionSystem.DataSet.DataSet at 0x7f78762e2438>"
      ]
     },
     "execution_count": 7,
     "metadata": {},
     "output_type": "execute_result"
    }
   ],
   "source": [
    "dataset"
   ]
  },
  {
   "cell_type": "code",
   "execution_count": 8,
   "metadata": {
    "scrolled": false
   },
   "outputs": [
    {
     "data": {
      "application/vnd.jupyter.widget-view+json": {
       "model_id": "4c7fcef892c74b91990a3f76364f7d3b",
       "version_major": 2,
       "version_minor": 0
      },
      "text/plain": [
       "DisplayPane(children=(HBox(children=(VBox(children=(Figure(fig_margin={'top': 60, 'bottom': 60, 'left': 60, 'r…"
      ]
     },
     "metadata": {},
     "output_type": "display_data"
    }
   ],
   "source": [
    "from DisplayPane.Interactor.FrameLabeller import FrameLabeller\n",
    "\n",
    "labeller_config = {\n",
    "    'camera_relative_coords': { 'tags': { 'rel_coords': ['required', 'regex:(\\d),\\W?(\\d)'] }}\n",
    "}\n",
    "\n",
    "DisplayPane(dataset=dataset, interactors=[FrameLabeller(dataset.labels, config=labeller_config)])"
   ]
  }
 ],
 "metadata": {
  "kernelspec": {
   "display_name": "Python 3",
   "language": "python",
   "name": "python3"
  },
  "language_info": {
   "codemirror_mode": {
    "name": "ipython",
    "version": 3
   },
   "file_extension": ".py",
   "mimetype": "text/x-python",
   "name": "python",
   "nbconvert_exporter": "python",
   "pygments_lexer": "ipython3",
   "version": "3.7.3"
  }
 },
 "nbformat": 4,
 "nbformat_minor": 2
}
