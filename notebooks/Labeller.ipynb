{
 "cells": [
  {
   "cell_type": "code",
   "execution_count": 1,
   "metadata": {},
   "outputs": [],
   "source": [
    "import sys\n",
    "sys.path.append('..')"
   ]
  },
  {
   "cell_type": "code",
   "execution_count": 2,
   "metadata": {},
   "outputs": [],
   "source": [
    "from VisionSystem.VisualObject import VisualObject\n",
    "from VisionSystem.DataSet import DataSet"
   ]
  },
  {
   "cell_type": "code",
   "execution_count": 3,
   "metadata": {},
   "outputs": [
    {
     "name": "stdout",
     "output_type": "stream",
     "text": [
      "rescan_files start OrderedDict([('../data/calibration2', [<VisionSystem.Label.FrameLabels object at 0x7f880c34b4a8>, <VisionSystem.Label.FrameLabels object at 0x7f880c35c9b0>, <VisionSystem.Label.FrameLabels object at 0x7f880c35c9e8>, <VisionSystem.Label.FrameLabels object at 0x7f880c35ca20>, <VisionSystem.Label.FrameLabels object at 0x7f880c35ca58>, <VisionSystem.Label.FrameLabels object at 0x7f880c35ca90>, <VisionSystem.Label.FrameLabels object at 0x7f880c35cac8>])])\n",
      "rescan_files end OrderedDict([('../data/calibration2', [<VisionSystem.Label.FrameLabels object at 0x7f880c34b4a8>, <VisionSystem.Label.FrameLabels object at 0x7f88480bdc18>, <VisionSystem.Label.FrameLabels object at 0x7f880c35cc18>, <VisionSystem.Label.FrameLabels object at 0x7f880c35cc88>, <VisionSystem.Label.FrameLabels object at 0x7f880c35ccf8>, <VisionSystem.Label.FrameLabels object at 0x7f880c35cd68>, <VisionSystem.Label.FrameLabels object at 0x7f880c3c1be0>])])\n"
     ]
    }
   ],
   "source": [
    "dataset = DataSet(\"../data/calibration2\")"
   ]
  },
  {
   "cell_type": "code",
   "execution_count": 4,
   "metadata": {},
   "outputs": [],
   "source": [
    "from matplotlib import pyplot as plt\n",
    "%matplotlib inline"
   ]
  },
  {
   "cell_type": "code",
   "execution_count": 5,
   "metadata": {},
   "outputs": [],
   "source": [
    "from DisplayPane import DisplayPane"
   ]
  },
  {
   "cell_type": "code",
   "execution_count": 6,
   "metadata": {},
   "outputs": [],
   "source": [
    "from VisionSystem.DetectionModel import ThreshBlob\n",
    "\n",
    "def load_or_create_new_threshblob(path):\n",
    "    try:\n",
    "        model = ThreshBlob.load(path)\n",
    "        print(\"Loaded \" + path)\n",
    "    except Exception:\n",
    "        model = ThreshBlob()\n",
    "    finally:\n",
    "        return model"
   ]
  },
  {
   "cell_type": "code",
   "execution_count": 7,
   "metadata": {
    "scrolled": false
   },
   "outputs": [
    {
     "data": {
      "application/vnd.jupyter.widget-view+json": {
       "model_id": "c6c6dd41c1d149baa63baac1d95a2ec6",
       "version_major": 2,
       "version_minor": 0
      },
      "text/plain": [
       "DisplayPane(children=(HBox(children=(VBox(children=(Figure(fig_margin={'top': 60, 'bottom': 60, 'left': 60, 'r…"
      ]
     },
     "metadata": {},
     "output_type": "display_data"
    }
   ],
   "source": [
    "from DisplayPane.Interactor.FrameLabeller import FrameLabeller\n",
    "from VisionSystem.Label import Point\n",
    "\n",
    "labeller_config = {\n",
    "    'camera_relative_coords': {\n",
    "        'type': Point,\n",
    "        'tags': { 'rel_coords': ['required', 'regex:(\\-?\\d+),(\\-?\\d+)', 'unique'] },\n",
    "        'init': { 'count': 90 }\n",
    "    }\n",
    "}\n",
    "\n",
    "labeller = FrameLabeller(dataset.labels, config=labeller_config)\n",
    "display = DisplayPane(dataset=dataset, interactors=[labeller])\n",
    "display"
   ]
  },
  {
   "cell_type": "code",
   "execution_count": null,
   "metadata": {},
   "outputs": [],
   "source": []
  }
 ],
 "metadata": {
  "kernelspec": {
   "display_name": "Python 3",
   "language": "python",
   "name": "python3"
  },
  "language_info": {
   "codemirror_mode": {
    "name": "ipython",
    "version": 3
   },
   "file_extension": ".py",
   "mimetype": "text/x-python",
   "name": "python",
   "nbconvert_exporter": "python",
   "pygments_lexer": "ipython3",
   "version": "3.7.3"
  }
 },
 "nbformat": 4,
 "nbformat_minor": 2
}
