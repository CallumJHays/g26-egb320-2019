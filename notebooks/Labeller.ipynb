{
 "cells": [
  {
   "cell_type": "code",
   "execution_count": 1,
   "metadata": {},
   "outputs": [],
   "source": [
    "import sys\n",
    "sys.path.append('..')"
   ]
  },
  {
   "cell_type": "code",
   "execution_count": 2,
   "metadata": {},
   "outputs": [],
   "source": [
    "from VisionSystem.VisualObject import VisualObject\n",
    "from VisionSystem.DataSet import DataSet"
   ]
  },
  {
   "cell_type": "code",
   "execution_count": 3,
   "metadata": {},
   "outputs": [],
   "source": [
    "dataset = DataSet(\"../data/calibration2\")"
   ]
  },
  {
   "cell_type": "code",
   "execution_count": 4,
   "metadata": {},
   "outputs": [],
   "source": [
    "from matplotlib import pyplot as plt\n",
    "%matplotlib inline"
   ]
  },
  {
   "cell_type": "code",
   "execution_count": 5,
   "metadata": {},
   "outputs": [],
   "source": [
    "from DisplayPane import DisplayPane"
   ]
  },
  {
   "cell_type": "code",
   "execution_count": 6,
   "metadata": {},
   "outputs": [],
   "source": [
    "from VisionSystem.DetectionModel import ThreshBlob\n",
    "\n",
    "def load_or_create_new_threshblob(path):\n",
    "    try:\n",
    "        model = ThreshBlob.load(path)\n",
    "        print(\"Loaded \" + path)\n",
    "    except Exception:\n",
    "        model = ThreshBlob()\n",
    "    finally:\n",
    "        return model"
   ]
  },
  {
   "cell_type": "code",
   "execution_count": 7,
   "metadata": {
    "scrolled": false
   },
   "outputs": [
    {
     "data": {
      "application/vnd.jupyter.widget-view+json": {
       "model_id": "2d94232e503d4d86b0b4b63047a60f87",
       "version_major": 2,
       "version_minor": 0
      },
      "text/plain": [
       "DisplayPane(children=(HBox(children=(VBox(children=(Figure(fig_margin={'top': 60, 'bottom': 60, 'left': 60, 'r…"
      ]
     },
     "metadata": {},
     "output_type": "display_data"
    },
    {
     "name": "stdout",
     "output_type": "stream",
     "text": [
      "{'camera_relative_coords': (<class 'VisionSystem.Label.Point'>, [<VisionSystem.Label.Point object at 0x7f5216c4c588>, <VisionSystem.Label.Point object at 0x7f5216c4c668>, <VisionSystem.Label.Point object at 0x7f5216c4c6d8>, <VisionSystem.Label.Point object at 0x7f5216c4c748>, <VisionSystem.Label.Point object at 0x7f5216c4c7b8>, <VisionSystem.Label.Point object at 0x7f5216c4c828>, <VisionSystem.Label.Point object at 0x7f5216c4c898>, <VisionSystem.Label.Point object at 0x7f5216c4c908>, <VisionSystem.Label.Point object at 0x7f5216c4c978>, <VisionSystem.Label.Point object at 0x7f5216c4c9e8>, <VisionSystem.Label.Point object at 0x7f5216c4ca58>, <VisionSystem.Label.Point object at 0x7f5216c4cac8>, <VisionSystem.Label.Point object at 0x7f5216c4cb38>, <VisionSystem.Label.Point object at 0x7f5216c4cba8>, <VisionSystem.Label.Point object at 0x7f5216c4cc18>, <VisionSystem.Label.Point object at 0x7f5216c4cc88>, <VisionSystem.Label.Point object at 0x7f5216c4ccf8>, <VisionSystem.Label.Point object at 0x7f5216c4cd68>, <VisionSystem.Label.Point object at 0x7f5216c4cdd8>, <VisionSystem.Label.Point object at 0x7f5216c4ce48>, <VisionSystem.Label.Point object at 0x7f5216c4ceb8>, <VisionSystem.Label.Point object at 0x7f5216c4cf28>, <VisionSystem.Label.Point object at 0x7f5216c4cf98>, <VisionSystem.Label.Point object at 0x7f5216c5b048>, <VisionSystem.Label.Point object at 0x7f5216c5b0b8>, <VisionSystem.Label.Point object at 0x7f5216c5b128>, <VisionSystem.Label.Point object at 0x7f5216c5b198>, <VisionSystem.Label.Point object at 0x7f5216c5b208>, <VisionSystem.Label.Point object at 0x7f5216c5b278>, <VisionSystem.Label.Point object at 0x7f5216c5b2e8>, <VisionSystem.Label.Point object at 0x7f5216c5b358>, <VisionSystem.Label.Point object at 0x7f5216c5b3c8>, <VisionSystem.Label.Point object at 0x7f5216c5b438>, <VisionSystem.Label.Point object at 0x7f5216c5b4a8>, <VisionSystem.Label.Point object at 0x7f5216c5b518>, <VisionSystem.Label.Point object at 0x7f5216c5b588>, <VisionSystem.Label.Point object at 0x7f5216c5b5f8>, <VisionSystem.Label.Point object at 0x7f5216c5b668>, <VisionSystem.Label.Point object at 0x7f5216c5b6d8>, <VisionSystem.Label.Point object at 0x7f5216c5b748>, <VisionSystem.Label.Point object at 0x7f5216c5b7b8>, <VisionSystem.Label.Point object at 0x7f5216c5b828>, <VisionSystem.Label.Point object at 0x7f5216c5b898>, <VisionSystem.Label.Point object at 0x7f5216c5b908>, <VisionSystem.Label.Point object at 0x7f5216c5b978>, <VisionSystem.Label.Point object at 0x7f5216c5b9e8>, <VisionSystem.Label.Point object at 0x7f5216c5ba58>, <VisionSystem.Label.Point object at 0x7f5216c5bac8>, <VisionSystem.Label.Point object at 0x7f5216c5bb38>, <VisionSystem.Label.Point object at 0x7f5216c5bba8>, <VisionSystem.Label.Point object at 0x7f5216c5bc18>, <VisionSystem.Label.Point object at 0x7f5216c5bc88>, <VisionSystem.Label.Point object at 0x7f5216c5bcf8>, <VisionSystem.Label.Point object at 0x7f5216c5bd68>, <VisionSystem.Label.Point object at 0x7f5216c5bdd8>, <VisionSystem.Label.Point object at 0x7f5216c5be48>, <VisionSystem.Label.Point object at 0x7f5216c5beb8>, <VisionSystem.Label.Point object at 0x7f5216c5bf28>, <VisionSystem.Label.Point object at 0x7f5216c5bf98>, <VisionSystem.Label.Point object at 0x7f5216c61048>, <VisionSystem.Label.Point object at 0x7f5216c610b8>, <VisionSystem.Label.Point object at 0x7f5216c61128>, <VisionSystem.Label.Point object at 0x7f5216c61198>, <VisionSystem.Label.Point object at 0x7f5216c61208>, <VisionSystem.Label.Point object at 0x7f5216c61278>, <VisionSystem.Label.Point object at 0x7f5216c612e8>, <VisionSystem.Label.Point object at 0x7f5216c61358>, <VisionSystem.Label.Point object at 0x7f5216c613c8>, <VisionSystem.Label.Point object at 0x7f5216c61438>, <VisionSystem.Label.Point object at 0x7f5216c614a8>, <VisionSystem.Label.Point object at 0x7f52541ca630>, <VisionSystem.Label.Point object at 0x7f52541ca1d0>, <VisionSystem.Label.Point object at 0x7f52541ca0b8>, <VisionSystem.Label.Point object at 0x7f5216c61518>, <VisionSystem.Label.Point object at 0x7f5216c61588>, <VisionSystem.Label.Point object at 0x7f5216c615f8>, <VisionSystem.Label.Point object at 0x7f5216c61668>, <VisionSystem.Label.Point object at 0x7f5216c616d8>, <VisionSystem.Label.Point object at 0x7f5216c61748>, <VisionSystem.Label.Point object at 0x7f5216c617b8>, <VisionSystem.Label.Point object at 0x7f5216c61828>, <VisionSystem.Label.Point object at 0x7f5216c61898>, <VisionSystem.Label.Point object at 0x7f5216c61908>])}\n",
      "{'camera_relative_coords': (<class 'VisionSystem.Label.Point'>, [<VisionSystem.Label.Point object at 0x7f520c102f98>, <VisionSystem.Label.Point object at 0x7f5207634588>, <VisionSystem.Label.Point object at 0x7f520c17dda0>, <VisionSystem.Label.Point object at 0x7f520c13f518>, <VisionSystem.Label.Point object at 0x7f520c164ac8>, <VisionSystem.Label.Point object at 0x7f520d7dcb00>, <VisionSystem.Label.Point object at 0x7f520d7dca58>, <VisionSystem.Label.Point object at 0x7f520d7dccf8>, <VisionSystem.Label.Point object at 0x7f520c41b320>, <VisionSystem.Label.Point object at 0x7f520c1d12b0>, <VisionSystem.Label.Point object at 0x7f520c1b9908>, <VisionSystem.Label.Point object at 0x7f520c1b9be0>, <VisionSystem.Label.Point object at 0x7f520c1b9eb8>, <VisionSystem.Label.Point object at 0x7f520c1b9a58>, <VisionSystem.Label.Point object at 0x7f520c153b38>, <VisionSystem.Label.Point object at 0x7f520c404ef0>, <VisionSystem.Label.Point object at 0x7f520c404cc0>, <VisionSystem.Label.Point object at 0x7f520c404978>, <VisionSystem.Label.Point object at 0x7f520c404828>, <VisionSystem.Label.Point object at 0x7f520c404438>, <VisionSystem.Label.Point object at 0x7f520c404390>, <VisionSystem.Label.Point object at 0x7f520c4044e0>, <VisionSystem.Label.Point object at 0x7f520c4041d0>, <VisionSystem.Label.Point object at 0x7f520c404198>, <VisionSystem.Label.Point object at 0x7f520c3ebb38>, <VisionSystem.Label.Point object at 0x7f520c3ebb00>, <VisionSystem.Label.Point object at 0x7f520c3ebe80>, <VisionSystem.Label.Point object at 0x7f520c3ebcc0>, <VisionSystem.Label.Point object at 0x7f520c3eb7f0>, <VisionSystem.Label.Point object at 0x7f520c3ebb70>, <VisionSystem.Label.Point object at 0x7f520c3eb9e8>, <VisionSystem.Label.Point object at 0x7f520c3eb2e8>, <VisionSystem.Label.Point object at 0x7f520c3eb828>, <VisionSystem.Label.Point object at 0x7f520c3eb630>, <VisionSystem.Label.Point object at 0x7f520c3eb240>, <VisionSystem.Label.Point object at 0x7f520c3eb438>, <VisionSystem.Label.Point object at 0x7f520c3eb320>, <VisionSystem.Label.Point object at 0x7f520c3eb1d0>, <VisionSystem.Label.Point object at 0x7f520c454f28>, <VisionSystem.Label.Point object at 0x7f520c4547f0>, <VisionSystem.Label.Point object at 0x7f520c454d30>, <VisionSystem.Label.Point object at 0x7f520c454e80>, <VisionSystem.Label.Point object at 0x7f520c454a90>, <VisionSystem.Label.Point object at 0x7f520c454b00>, <VisionSystem.Label.Point object at 0x7f520c454c18>, <VisionSystem.Label.Point object at 0x7f520c4549e8>, <VisionSystem.Label.Point object at 0x7f520c454438>, <VisionSystem.Label.Point object at 0x7f520c454860>, <VisionSystem.Label.Point object at 0x7f520c4546a0>, <VisionSystem.Label.Point object at 0x7f520c4540f0>, <VisionSystem.Label.Point object at 0x7f520c454550>, <VisionSystem.Label.Point object at 0x7f520c454358>, <VisionSystem.Label.Point object at 0x7f520c43cac8>, <VisionSystem.Label.Point object at 0x7f520c43ccc0>, <VisionSystem.Label.Point object at 0x7f520c43cb38>, <VisionSystem.Label.Point object at 0x7f520c43ce10>, <VisionSystem.Label.Point object at 0x7f520c43ccf8>, <VisionSystem.Label.Point object at 0x7f520c43ca90>, <VisionSystem.Label.Point object at 0x7f520c43cbe0>, <VisionSystem.Label.Point object at 0x7f520c43c7f0>, <VisionSystem.Label.Point object at 0x7f520c43c748>, <VisionSystem.Label.Point object at 0x7f520c43c898>, <VisionSystem.Label.Point object at 0x7f520c43c4a8>, <VisionSystem.Label.Point object at 0x7f520c43c1d0>, <VisionSystem.Label.Point object at 0x7f520c43c550>, <VisionSystem.Label.Point object at 0x7f520c43c0f0>, <VisionSystem.Label.Point object at 0x7f520c43c2b0>, <VisionSystem.Label.Point object at 0x7f520c425e80>, <VisionSystem.Label.Point object at 0x7f520c425f28>, <VisionSystem.Label.Point object at 0x7f520c425c50>, <VisionSystem.Label.Point object at 0x7f520c425e48>, <VisionSystem.Label.Point object at 0x7f520c425748>, <VisionSystem.Label.Point object at 0x7f520c425c88>, <VisionSystem.Label.Point object at 0x7f520c425a90>, <VisionSystem.Label.Point object at 0x7f520d7dca90>, <VisionSystem.Label.Point object at 0x7f520d7dca20>, <VisionSystem.Label.Point object at 0x7f520d7dc748>, <VisionSystem.Label.Point object at 0x7f520d7dc940>, <VisionSystem.Label.Point object at 0x7f520d7dc780>, <VisionSystem.Label.Point object at 0x7f520d7dc710>, <VisionSystem.Label.Point object at 0x7f520d7dc860>, <VisionSystem.Label.Point object at 0x7f520d7dc8d0>, <VisionSystem.Label.Point object at 0x7f520d7dc908>, <VisionSystem.Label.Point object at 0x7f5216c4c630>, <VisionSystem.Label.Point object at 0x7f5214991048>, <VisionSystem.Label.Point object at 0x7f520d7d29e8>, <VisionSystem.Label.Point object at 0x7f520d7d28d0>, <VisionSystem.Label.Point object at 0x7f520d7d2cf8>, <VisionSystem.Label.Point object at 0x7f520d7d27b8>, <VisionSystem.Label.Point object at 0x7f520d7d2b00>])}\n"
     ]
    },
    {
     "name": "stdout",
     "output_type": "stream",
     "text": [
      "{'camera_relative_coords': (<class 'VisionSystem.Label.Point'>, [<VisionSystem.Label.Point object at 0x7f520c102f98>, <VisionSystem.Label.Point object at 0x7f5207634588>, <VisionSystem.Label.Point object at 0x7f520c17dda0>, <VisionSystem.Label.Point object at 0x7f520c13f518>, <VisionSystem.Label.Point object at 0x7f520c164ac8>, <VisionSystem.Label.Point object at 0x7f520d7dcb00>, <VisionSystem.Label.Point object at 0x7f520d7dca58>, <VisionSystem.Label.Point object at 0x7f520d7dccf8>, <VisionSystem.Label.Point object at 0x7f520c41b320>, <VisionSystem.Label.Point object at 0x7f520c1d12b0>, <VisionSystem.Label.Point object at 0x7f520c1b9908>, <VisionSystem.Label.Point object at 0x7f520c1b9be0>, <VisionSystem.Label.Point object at 0x7f520c1b9eb8>, <VisionSystem.Label.Point object at 0x7f520c1b9a58>, <VisionSystem.Label.Point object at 0x7f520c153b38>, <VisionSystem.Label.Point object at 0x7f520c404ef0>, <VisionSystem.Label.Point object at 0x7f520c404cc0>, <VisionSystem.Label.Point object at 0x7f520c404978>, <VisionSystem.Label.Point object at 0x7f520c404828>, <VisionSystem.Label.Point object at 0x7f520c404438>, <VisionSystem.Label.Point object at 0x7f520c404390>, <VisionSystem.Label.Point object at 0x7f520c4044e0>, <VisionSystem.Label.Point object at 0x7f520c4041d0>, <VisionSystem.Label.Point object at 0x7f520c404198>, <VisionSystem.Label.Point object at 0x7f520c3ebb38>, <VisionSystem.Label.Point object at 0x7f520c3ebb00>, <VisionSystem.Label.Point object at 0x7f520c3ebe80>, <VisionSystem.Label.Point object at 0x7f520c3ebcc0>, <VisionSystem.Label.Point object at 0x7f520c3eb7f0>, <VisionSystem.Label.Point object at 0x7f520c3ebb70>, <VisionSystem.Label.Point object at 0x7f520c3eb9e8>, <VisionSystem.Label.Point object at 0x7f520c3eb2e8>, <VisionSystem.Label.Point object at 0x7f520c3eb828>, <VisionSystem.Label.Point object at 0x7f520c3eb630>, <VisionSystem.Label.Point object at 0x7f520c3eb240>, <VisionSystem.Label.Point object at 0x7f520c3eb438>, <VisionSystem.Label.Point object at 0x7f520c3eb320>, <VisionSystem.Label.Point object at 0x7f520c3eb1d0>, <VisionSystem.Label.Point object at 0x7f520c454f28>, <VisionSystem.Label.Point object at 0x7f520c4547f0>, <VisionSystem.Label.Point object at 0x7f520c454d30>, <VisionSystem.Label.Point object at 0x7f520c454e80>, <VisionSystem.Label.Point object at 0x7f520c454a90>, <VisionSystem.Label.Point object at 0x7f520c454b00>, <VisionSystem.Label.Point object at 0x7f520c454c18>, <VisionSystem.Label.Point object at 0x7f520c4549e8>, <VisionSystem.Label.Point object at 0x7f520c454438>, <VisionSystem.Label.Point object at 0x7f520c454860>, <VisionSystem.Label.Point object at 0x7f520c4546a0>, <VisionSystem.Label.Point object at 0x7f520c4540f0>, <VisionSystem.Label.Point object at 0x7f520c454550>, <VisionSystem.Label.Point object at 0x7f520c454358>, <VisionSystem.Label.Point object at 0x7f520c43cac8>, <VisionSystem.Label.Point object at 0x7f520c43ccc0>, <VisionSystem.Label.Point object at 0x7f520c43cb38>, <VisionSystem.Label.Point object at 0x7f520c43ce10>, <VisionSystem.Label.Point object at 0x7f520c43ccf8>, <VisionSystem.Label.Point object at 0x7f520c43ca90>, <VisionSystem.Label.Point object at 0x7f520c43cbe0>, <VisionSystem.Label.Point object at 0x7f520c43c7f0>, <VisionSystem.Label.Point object at 0x7f520c43c748>, <VisionSystem.Label.Point object at 0x7f520c43c898>, <VisionSystem.Label.Point object at 0x7f520c43c4a8>, <VisionSystem.Label.Point object at 0x7f520c43c1d0>, <VisionSystem.Label.Point object at 0x7f520c43c550>, <VisionSystem.Label.Point object at 0x7f520c43c0f0>, <VisionSystem.Label.Point object at 0x7f520c43c2b0>, <VisionSystem.Label.Point object at 0x7f520c425e80>, <VisionSystem.Label.Point object at 0x7f520c425f28>, <VisionSystem.Label.Point object at 0x7f520c425c50>, <VisionSystem.Label.Point object at 0x7f520c425e48>, <VisionSystem.Label.Point object at 0x7f520c425748>, <VisionSystem.Label.Point object at 0x7f520c425c88>, <VisionSystem.Label.Point object at 0x7f520c425a90>, <VisionSystem.Label.Point object at 0x7f520d7dca90>, <VisionSystem.Label.Point object at 0x7f520d7dca20>, <VisionSystem.Label.Point object at 0x7f520d7dc748>, <VisionSystem.Label.Point object at 0x7f520d7dc940>, <VisionSystem.Label.Point object at 0x7f520d7dc780>, <VisionSystem.Label.Point object at 0x7f520d7dc710>, <VisionSystem.Label.Point object at 0x7f520d7dc860>, <VisionSystem.Label.Point object at 0x7f520d7dc8d0>, <VisionSystem.Label.Point object at 0x7f520d7dc908>, <VisionSystem.Label.Point object at 0x7f5216c4c630>, <VisionSystem.Label.Point object at 0x7f5214991048>, <VisionSystem.Label.Point object at 0x7f520d7d29e8>, <VisionSystem.Label.Point object at 0x7f520d7d28d0>, <VisionSystem.Label.Point object at 0x7f520d7d2cf8>, <VisionSystem.Label.Point object at 0x7f520d7d27b8>, <VisionSystem.Label.Point object at 0x7f520d7d2b00>])}\n"
     ]
    }
   ],
   "source": [
    "from DisplayPane.Interactor.FrameLabeller import FrameLabeller\n",
    "\n",
    "labeller_config = {\n",
    "    'camera_relative_coords': {\n",
    "        'tags': { 'rel_coords': ['required', 'regex:(\\-?\\d+),(\\-?\\d+)', 'unique'] },\n",
    "        'init': { 'count': 90 }\n",
    "    }\n",
    "}\n",
    "\n",
    "DisplayPane(dataset=dataset, interactors=[FrameLabeller(dataset.labels, config=labeller_config)])"
   ]
  }
 ],
 "metadata": {
  "kernelspec": {
   "display_name": "Python 3",
   "language": "python",
   "name": "python3"
  },
  "language_info": {
   "codemirror_mode": {
    "name": "ipython",
    "version": 3
   },
   "file_extension": ".py",
   "mimetype": "text/x-python",
   "name": "python",
   "nbconvert_exporter": "python",
   "pygments_lexer": "ipython3",
   "version": "3.7.3"
  }
 },
 "nbformat": 4,
 "nbformat_minor": 2
}
