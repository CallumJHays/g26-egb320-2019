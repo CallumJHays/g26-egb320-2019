{
 "cells": [
  {
   "cell_type": "code",
   "execution_count": 1,
   "metadata": {},
   "outputs": [],
   "source": [
    "import sys\n",
    "sys.path.append('..')"
   ]
  },
  {
   "cell_type": "code",
   "execution_count": 2,
   "metadata": {},
   "outputs": [],
   "source": [
    "from VisionSystem.VideoStream import VideoStream\n",
    "from ipywidgets import interact\n",
    "from picamera import PiCamera\n",
    "from DisplayPane import DisplayPane"
   ]
  },
  {
   "cell_type": "code",
   "execution_count": 3,
   "metadata": {},
   "outputs": [],
   "source": [
    "stream = VideoStream(downsample_scale=5, crop=((0.13, 0), (.9, 1)))"
   ]
  },
  {
   "cell_type": "code",
   "execution_count": 8,
   "metadata": {},
   "outputs": [
    {
     "data": {
      "application/vnd.jupyter.widget-view+json": {
       "model_id": "5000808b970d47258b68c85a56f96ed9",
       "version_major": 2,
       "version_minor": 0
      },
      "text/plain": [
       "interactive(children=(Dropdown(description='iso', options=(100, 200, 320, 400, 500, 640, 800), value=100), Int…"
      ]
     },
     "metadata": {},
     "output_type": "display_data"
    }
   ],
   "source": [
    "EXPOSURE_MODES, AWB_MODES = PiCamera.EXPOSURE_MODES, PiCamera.AWB_MODES\n",
    "pi_cam = stream.pi_cam\n",
    "\n",
    "def modify_picam(iso=100, shutter_speed=16000, exposure_mode='off', \\\n",
    "                 awb_mode='off', red_gain=1.5, blue_gain=2.0, framerate=15):\n",
    "    pi_cam.framerate = framerate\n",
    "    pi_cam.shutter_speed = shutter_speed\n",
    "    pi_cam.exposure_mode = exposure_mode\n",
    "    pi_cam.awb_mode = awb_mode\n",
    "    pi_cam.iso = iso\n",
    "    pi_cam.awb_gains = (red_gain, blue_gain)\n",
    "\n",
    "interact(\n",
    "    modify_picam,\n",
    "    iso=[100, 200, 320, 400, 500, 640, 800],\n",
    "    shutter_speed=(2000, 64000),\n",
    "    exposure_mode=EXPOSURE_MODES.keys(),\n",
    "    awb_mode=AWB_MODES.keys(),\n",
    "    red_gain=(1.0, 6.0, 0.01),\n",
    "    blue_gain=(1.0, 6.0, 0.01),\n",
    "    framerate=(5, 30)\n",
    ")\n",
    "None"
   ]
  },
  {
   "cell_type": "code",
   "execution_count": 5,
   "metadata": {},
   "outputs": [
    {
     "data": {
      "application/vnd.jupyter.widget-view+json": {
       "model_id": "7fb9fedd050c46809be5e5e7872dab0c",
       "version_major": 2,
       "version_minor": 0
      },
      "text/plain": [
       "DisplayPane(children=(VBox(children=(Figure(fig_margin={'top': 60, 'bottom': 60, 'left': 60, 'right': 60}, lay…"
      ]
     },
     "metadata": {},
     "output_type": "display_data"
    }
   ],
   "source": [
    "DisplayPane(video_stream=stream)"
   ]
  },
  {
   "cell_type": "code",
   "execution_count": 6,
   "metadata": {},
   "outputs": [
    {
     "data": {
      "text/plain": [
       "(Fraction(371, 256), Fraction(131, 64))"
      ]
     },
     "execution_count": 6,
     "metadata": {},
     "output_type": "execute_result"
    }
   ],
   "source": [
    "pi_cam.awb_gains"
   ]
  },
  {
   "cell_type": "code",
   "execution_count": 7,
   "metadata": {},
   "outputs": [
    {
     "data": {
      "text/plain": [
       "PiCameraFraction(30, 1)"
      ]
     },
     "execution_count": 7,
     "metadata": {},
     "output_type": "execute_result"
    }
   ],
   "source": [
    "pi_cam.framerate"
   ]
  }
 ],
 "metadata": {
  "kernelspec": {
   "display_name": "Python 3",
   "language": "python",
   "name": "python3"
  },
  "language_info": {
   "codemirror_mode": {
    "name": "ipython",
    "version": 3
   },
   "file_extension": ".py",
   "mimetype": "text/x-python",
   "name": "python",
   "nbconvert_exporter": "python",
   "pygments_lexer": "ipython3",
   "version": "3.6.1"
  }
 },
 "nbformat": 4,
 "nbformat_minor": 2
}
