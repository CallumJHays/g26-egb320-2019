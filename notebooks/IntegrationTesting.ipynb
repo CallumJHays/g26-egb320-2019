{
 "cells": [
  {
   "cell_type": "code",
   "execution_count": 2,
   "metadata": {},
   "outputs": [],
   "source": [
    "import sys\n",
    "\n",
    "sys.path.append('..')"
   ]
  },
  {
   "cell_type": "code",
   "execution_count": 3,
   "metadata": {},
   "outputs": [
    {
     "name": "stdout",
     "output_type": "stream",
     "text": [
      "before {}\n",
      "after {13: ('/home/pi/SoccerRobot/DriveSystem/DriveSystem.py, line 8', <gpiozero.LED object on pin GPIO13, active_high=True, is_active=False>), 26: ('/home/pi/SoccerRobot/DriveSystem/DriveSystem.py, line 10', <gpiozero.LED object on pin GPIO26, active_high=True, is_active=False>)}\n",
      "before {13: ('/home/pi/SoccerRobot/DriveSystem/DriveSystem.py, line 8', <gpiozero.LED object on pin GPIO13, active_high=True, is_active=False>), 26: ('/home/pi/SoccerRobot/DriveSystem/DriveSystem.py, line 10', <gpiozero.LED object on pin GPIO26, active_high=True, is_active=False>)}\n",
      "after {13: ('/home/pi/SoccerRobot/DriveSystem/DriveSystem.py, line 8', <gpiozero.LED object on pin GPIO13, active_high=True, is_active=False>), 26: ('/home/pi/SoccerRobot/DriveSystem/DriveSystem.py, line 10', <gpiozero.LED object on pin GPIO26, active_high=True, is_active=False>), 5: ('/home/pi/SoccerRobot/DriveSystem/DriveSystem.py, line 8', <gpiozero.LED object on pin GPIO5, active_high=True, is_active=False>), 12: ('/home/pi/SoccerRobot/DriveSystem/DriveSystem.py, line 10', <gpiozero.LED object on pin GPIO12, active_high=True, is_active=False>)}\n",
      "before {13: ('/home/pi/SoccerRobot/DriveSystem/DriveSystem.py, line 8', <gpiozero.LED object on pin GPIO13, active_high=True, is_active=False>), 26: ('/home/pi/SoccerRobot/DriveSystem/DriveSystem.py, line 10', <gpiozero.LED object on pin GPIO26, active_high=True, is_active=False>), 5: ('/home/pi/SoccerRobot/DriveSystem/DriveSystem.py, line 8', <gpiozero.LED object on pin GPIO5, active_high=True, is_active=False>), 12: ('/home/pi/SoccerRobot/DriveSystem/DriveSystem.py, line 10', <gpiozero.LED object on pin GPIO12, active_high=True, is_active=False>)}\n",
      "after {13: ('/home/pi/SoccerRobot/DriveSystem/DriveSystem.py, line 8', <gpiozero.LED object on pin GPIO13, active_high=True, is_active=False>), 26: ('/home/pi/SoccerRobot/DriveSystem/DriveSystem.py, line 10', <gpiozero.LED object on pin GPIO26, active_high=True, is_active=False>), 5: ('/home/pi/SoccerRobot/DriveSystem/DriveSystem.py, line 8', <gpiozero.LED object on pin GPIO5, active_high=True, is_active=False>), 12: ('/home/pi/SoccerRobot/DriveSystem/DriveSystem.py, line 10', <gpiozero.LED object on pin GPIO12, active_high=True, is_active=False>), 16: ('/home/pi/SoccerRobot/DriveSystem/DriveSystem.py, line 8', <gpiozero.LED object on pin GPIO16, active_high=True, is_active=False>), 21: ('/home/pi/SoccerRobot/DriveSystem/DriveSystem.py, line 10', <gpiozero.LED object on pin GPIO21, active_high=True, is_active=False>)}\n"
     ]
    }
   ],
   "source": [
    "from NavigationSystem import NavigationSystem\n",
    "from DriveSystem import DriveSystem\n",
    "from KickerSystem import KickerSystem\n",
    "from VisionSystem import *\n",
    "from VisionSystem.DetectionModel import *\n",
    "import time"
   ]
  },
  {
   "cell_type": "code",
   "execution_count": 4,
   "metadata": {},
   "outputs": [
    {
     "name": "stdout",
     "output_type": "stream",
     "text": [
      "self.resolution 192x96\n"
     ]
    }
   ],
   "source": [
    "def setup_vision_system(resolution):\n",
    "    objects_to_size_and_result_limit = [\n",
    "        (\"ball\", (0.043, 0.043, 0.043), 1),\n",
    "        (\"obstacle\", (0.18, 0.18, 0.2), None),\n",
    "#         (\"blue_goal\", (0.3, 0.3, 0.1), 1), # 30 centimetres long, 10 cm high? i guess\n",
    "#         (\"yellow_goal\", (0.3, 0.3, 0.1), 1)\n",
    "    ]\n",
    "\n",
    "    return VisionSystem(camera_pixel_width=resolution[0], objects_to_track={\n",
    "        name: VisualObject(\n",
    "            real_size=size,\n",
    "            detection_model=ThreshBlob.load(f\"../models/{name}.threshblob.pkl\"),\n",
    "            result_limit=result_limit\n",
    "        ) for name, size, result_limit in objects_to_size_and_result_limit\n",
    "    })\n",
    "\n",
    "kicker_system = KickerSystem()\n",
    "kicker_system.setup()\n",
    "video_stream = VideoStream(downsample_scale=10)\n",
    "vision_system = setup_vision_system(resolution=video_stream.resolution)\n",
    "drive_system = DriveSystem()\n",
    "nav_system = NavigationSystem(vision_system, drive_system, kicker_system, debug_print=False)"
   ]
  },
  {
   "cell_type": "code",
   "execution_count": null,
   "metadata": {
    "scrolled": false
   },
   "outputs": [],
   "source": [
    "# # def live_test():\n",
    "# for frame in video_stream:\n",
    "#     vision_system.update_with_frame(frame)\n",
    "#     nav_system.update()\n",
    "\n",
    "#     time.sleep(0.2)\n",
    "#     drive_system.set_desired_motion(0, 0, 0)"
   ]
  },
  {
   "cell_type": "code",
   "execution_count": null,
   "metadata": {},
   "outputs": [],
   "source": [
    "# for _ in live_test():\n",
    "#     pass"
   ]
  },
  {
   "cell_type": "code",
   "execution_count": null,
   "metadata": {
    "scrolled": false
   },
   "outputs": [],
   "source": [
    "# import ipywidgets as ipy\n",
    "\n",
    "# this_test = live_test()\n",
    "\n",
    "# step_button = ipy.Button(\n",
    "#     description='Next Step'\n",
    "# )\n",
    "\n",
    "# step_button.on_click(lambda _: next(this_test))\n",
    "# step_button"
   ]
  },
  {
   "cell_type": "code",
   "execution_count": 5,
   "metadata": {},
   "outputs": [],
   "source": [
    "import timeit\n",
    "\n",
    "frames = iter(video_stream)\n",
    "\n",
    "def frame_rate():\n",
    "    vision_system.update_with_frame(next(frames))\n",
    "\n",
    "n_frames_to_test = 100\n",
    "hz = n_frames_to_test / timeit.timeit(frame_rate, number=n_frames_to_test)\n"
   ]
  },
  {
   "cell_type": "code",
   "execution_count": 6,
   "metadata": {},
   "outputs": [
    {
     "data": {
      "text/plain": [
       "15.429097036984412"
      ]
     },
     "execution_count": 6,
     "metadata": {},
     "output_type": "execute_result"
    }
   ],
   "source": [
    "hz"
   ]
  },
  {
   "cell_type": "code",
   "execution_count": null,
   "metadata": {},
   "outputs": [],
   "source": [
    "vision_system.update_with_frame(next(frames()))"
   ]
  },
  {
   "cell_type": "code",
   "execution_count": 1,
   "metadata": {},
   "outputs": [
    {
     "ename": "NameError",
     "evalue": "name 'vision_system' is not defined",
     "output_type": "error",
     "traceback": [
      "\u001b[0;31m---------------------------------------------------------------------------\u001b[0m",
      "\u001b[0;31mNameError\u001b[0m                                 Traceback (most recent call last)",
      "\u001b[0;32m<ipython-input-1-29a2e6810c7b>\u001b[0m in \u001b[0;36m<module>\u001b[0;34m\u001b[0m\n\u001b[0;32m----> 1\u001b[0;31m \u001b[0mvision_system\u001b[0m\u001b[0;34m.\u001b[0m\u001b[0mobjects_to_track\u001b[0m\u001b[0;34m[\u001b[0m\u001b[0;34m'obstacle'\u001b[0m\u001b[0;34m]\u001b[0m\u001b[0;34m.\u001b[0m\u001b[0mbearings_distances\u001b[0m\u001b[0;34m\u001b[0m\u001b[0m\n\u001b[0m",
      "\u001b[0;31mNameError\u001b[0m: name 'vision_system' is not defined"
     ]
    }
   ],
   "source": [
    "vision_system.objects_to_track['obstacle'].bearings_distances"
   ]
  },
  {
   "cell_type": "code",
   "execution_count": null,
   "metadata": {},
   "outputs": [],
   "source": []
  }
 ],
 "metadata": {
  "kernelspec": {
   "display_name": "Python 3",
   "language": "python",
   "name": "python3"
  },
  "language_info": {
   "codemirror_mode": {
    "name": "ipython",
    "version": 3
   },
   "file_extension": ".py",
   "mimetype": "text/x-python",
   "name": "python",
   "nbconvert_exporter": "python",
   "pygments_lexer": "ipython3",
   "version": "3.6.1"
  }
 },
 "nbformat": 4,
 "nbformat_minor": 4
}
