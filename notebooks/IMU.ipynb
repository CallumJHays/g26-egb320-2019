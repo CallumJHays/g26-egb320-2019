{
 "cells": [
  {
   "cell_type": "code",
   "execution_count": 1,
   "metadata": {},
   "outputs": [],
   "source": [
    "from mpu6050 import mpu6050"
   ]
  },
  {
   "cell_type": "code",
   "execution_count": 2,
   "metadata": {},
   "outputs": [],
   "source": [
    "sensor = mpu6050(0x68)"
   ]
  },
  {
   "cell_type": "code",
   "execution_count": 3,
   "metadata": {},
   "outputs": [
    {
     "data": {
      "application/vnd.jupyter.widget-view+json": {
       "model_id": "981b4a7d5cf741b7a6989b04b576e292",
       "version_major": 2,
       "version_minor": 0
      },
      "text/plain": [
       "Figure(axes=[Axis(label='Index', scale=LinearScale()), Axis(orientation='vertical', scale=LinearScale())], fig…"
      ]
     },
     "metadata": {},
     "output_type": "display_data"
    },
    {
     "data": {
      "application/vnd.jupyter.widget-view+json": {
       "model_id": "653879752b8d45048204103318959876",
       "version_major": 2,
       "version_minor": 0
      },
      "text/plain": [
       "Figure(axes=[Axis(label='Index', scale=LinearScale()), Axis(orientation='vertical', scale=LinearScale())], fig…"
      ]
     },
     "metadata": {},
     "output_type": "display_data"
    }
   ],
   "source": [
    "import bqplot as bq\n",
    "from IPython.display import display\n",
    "\n",
    "axes = lambda scales: [\n",
    "    bq.Axis(scale=scales['x'], label='Index'),\n",
    "    bq.Axis(scale=scales['y'], orientation='vertical')\n",
    "]\n",
    "\n",
    "accel_lines = bq.Lines(scales={'x': bq.LinearScale(), 'y': bq.LinearScale()})\n",
    "# temp = bq.Lines(scales={'x': bq.LinearScale(), 'y': bq.LinearScale()})\n",
    "gyro_lines = bq.Lines(scales={'x': bq.LinearScale(), 'y': bq.LinearScale()})\n",
    "\n",
    "accel_fig = bq.Figure(marks=[accel_lines], axes=axes(accel_lines.scales), title='Acceleration')\n",
    "gyro_fig = bq.Figure(marks=[gyro_lines], axes=axes(gyro_lines.scales), title='Gyrscope')\n",
    "# temp_fig = bq.Figure(marks=[temp], axes=axes(temp.scales), title='Temperature')\n",
    "\n",
    "display(accel_fig)\n",
    "# display(temp_fig)\n",
    "display(gyro_fig)"
   ]
  },
  {
   "cell_type": "code",
   "execution_count": null,
   "metadata": {
    "scrolled": false
   },
   "outputs": [],
   "source": [
    "import numpy as np\n",
    "import time\n",
    "\n",
    "accs, gyros, times = ([], [], []), ([], [], []), []\n",
    "\n",
    "update_every = 100\n",
    "disp_limit = 1000\n",
    "\n",
    "while True:\n",
    "    \n",
    "    for _ in range(update_every):\n",
    "        [accel_dat, gyro_dat, magnet_dat] = sensor.get_all_data()\n",
    "        times.append(time.time())\n",
    "        \n",
    "        accs[0].append(accel_dat['x'])\n",
    "        accs[1].append(accel_dat['y'])\n",
    "        accs[2].append(accel_dat['z'])\n",
    "        \n",
    "        gyros[0].append(gyro_dat['x'])\n",
    "        gyros[1].append(gyro_dat['y'])\n",
    "        gyros[2].append(gyro_dat['z'])\n",
    "        \n",
    "    \n",
    "    if len(accs[0]) > disp_limit:\n",
    "        n_over = len(accs[0]) - disp_limit\n",
    "        \n",
    "        for i in range(n_over):\n",
    "            del times[i]\n",
    "            for acc in accs:\n",
    "                del acc[i]\n",
    "            for gyro in gyros:\n",
    "                del gyro[i]\n",
    "            \n",
    "    gyro_lines.x = np.array(times)\n",
    "    accel_lines.x = np.array(times)\n",
    "    \n",
    "    gyro_lines.y = np.array(gyros)\n",
    "    accel_lines.y = np.array(accs)"
   ]
  }
 ],
 "metadata": {
  "kernelspec": {
   "display_name": "Python 3",
   "language": "python",
   "name": "python3"
  },
  "language_info": {
   "codemirror_mode": {
    "name": "ipython",
    "version": 3
   },
   "file_extension": ".py",
   "mimetype": "text/x-python",
   "name": "python",
   "nbconvert_exporter": "python",
   "pygments_lexer": "ipython3",
   "version": "3.6.1"
  }
 },
 "nbformat": 4,
 "nbformat_minor": 4
}
