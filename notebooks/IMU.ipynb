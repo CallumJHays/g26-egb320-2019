{
 "cells": [
  {
   "cell_type": "code",
   "execution_count": 1,
   "metadata": {},
   "outputs": [],
   "source": [
    "from mpu6050 import mpu6050"
   ]
  },
  {
   "cell_type": "code",
   "execution_count": 2,
   "metadata": {},
   "outputs": [],
   "source": [
    "sensor = mpu6050(0x68)"
   ]
  },
  {
   "cell_type": "code",
   "execution_count": 4,
   "metadata": {},
   "outputs": [
    {
     "data": {
      "application/vnd.jupyter.widget-view+json": {
       "model_id": "3aa515d639b647faa41048269916129b",
       "version_major": 2,
       "version_minor": 0
      },
      "text/plain": [
       "Figure(axes=[Axis(label='Index', scale=LinearScale()), Axis(orientation='vertical', scale=LinearScale())], fig…"
      ]
     },
     "metadata": {},
     "output_type": "display_data"
    },
    {
     "data": {
      "application/vnd.jupyter.widget-view+json": {
       "model_id": "a09772d7d1d34855bd5c2daca30c56dc",
       "version_major": 2,
       "version_minor": 0
      },
      "text/plain": [
       "Figure(axes=[Axis(label='Index', scale=LinearScale()), Axis(orientation='vertical', scale=LinearScale())], fig…"
      ]
     },
     "metadata": {},
     "output_type": "display_data"
    }
   ],
   "source": [
    "import bqplot as bq\n",
    "from IPython.display import display\n",
    "\n",
    "axes = lambda scales: [\n",
    "    bq.Axis(scale=scales['x'], label='Index'),\n",
    "    bq.Axis(scale=scales['y'], orientation='vertical')\n",
    "]\n",
    "\n",
    "accel = bq.Lines(scales={'x': bq.LinearScale(), 'y': bq.LinearScale()})\n",
    "# temp = bq.Lines(scales={'x': bq.LinearScale(), 'y': bq.LinearScale()})\n",
    "gyro = bq.Lines(scales={'x': bq.LinearScale(), 'y': bq.LinearScale()})\n",
    "\n",
    "accel_fig = bq.Figure(marks=[accel], axes=axes(accel.scales), title='Acceleration')\n",
    "gyro_fig = bq.Figure(marks=[gyro], axes=axes(gyro.scales), title='Gyrscope')\n",
    "# temp_fig = bq.Figure(marks=[temp], axes=axes(temp.scales), title='Temperature')\n",
    "\n",
    "display(accel_fig)\n",
    "# display(temp_fig)\n",
    "display(gyro_fig)"
   ]
  },
  {
   "cell_type": "code",
   "execution_count": null,
   "metadata": {},
   "outputs": [],
   "source": [
    "import numpy as np\n",
    "\n",
    "idx = 0\n",
    "\n",
    "accs, gyros = ([], [], []), ([], [], [])\n",
    "\n",
    "while True:\n",
    "    [accel_dat, gyro_dat, magnet_dat] = sensor.get_all_data()\n",
    "    \n",
    "    accel.x = np.append(accel.x, idx)\n",
    "    accs[0].append(accel_dat['x'])\n",
    "    accs[1].append(accel_dat['y'])\n",
    "    accs[2].append(accel_dat['z'])\n",
    "    if len(accs[0]) > 500:\n",
    "        np.delete(accel.x, 0)\n",
    "        for acclist in accs:\n",
    "            acclist.pop(0)\n",
    "    accel.y = np.array(accs)\n",
    "\n",
    "    gyro.x = np.append(gyro.x, idx)\n",
    "    gyros[0].append(gyro_dat['x'])\n",
    "    gyros[1].append(gyro_dat['y'])\n",
    "    gyros[2].append(gyro_dat['z'])\n",
    "    if len(gyros[0]) > 500:\n",
    "        np.delete(gyro.x, 0)\n",
    "        for acclist in accs:\n",
    "            acclist.pop(0)\n",
    "    gyro.y = np.array(gyros)\n",
    "\n",
    "#     temp.x = np.append(temp.x, idx)\n",
    "#     temp.y = np.append(temp.y, magnet_dat)\n",
    "#     if len(temp.x) > 500:\n",
    "#         np.delete(temp.x, 0)\n",
    "#         np.delete(temp.y, 0)\n",
    "\n",
    "    idx += 1"
   ]
  },
  {
   "cell_type": "code",
   "execution_count": null,
   "metadata": {},
   "outputs": [],
   "source": [
    "accs"
   ]
  },
  {
   "cell_type": "code",
   "execution_count": null,
   "metadata": {},
   "outputs": [],
   "source": []
  }
 ],
 "metadata": {
  "kernelspec": {
   "display_name": "Python 3",
   "language": "python",
   "name": "python3"
  },
  "language_info": {
   "codemirror_mode": {
    "name": "ipython",
    "version": 3
   },
   "file_extension": ".py",
   "mimetype": "text/x-python",
   "name": "python",
   "nbconvert_exporter": "python",
   "pygments_lexer": "ipython3",
   "version": "3.6.1"
  }
 },
 "nbformat": 4,
 "nbformat_minor": 4
}
