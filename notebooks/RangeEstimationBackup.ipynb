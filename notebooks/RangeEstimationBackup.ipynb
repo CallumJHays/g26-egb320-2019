{
 "cells": [
  {
   "cell_type": "code",
   "execution_count": 1,
   "metadata": {},
   "outputs": [],
   "source": [
    "import sys\n",
    "sys.path.append('..')"
   ]
  },
  {
   "cell_type": "code",
   "execution_count": 2,
   "metadata": {
    "scrolled": false
   },
   "outputs": [
    {
     "data": {
      "text/plain": [
       "(1232, 1281, 3)"
      ]
     },
     "execution_count": 2,
     "metadata": {},
     "output_type": "execute_result"
    }
   ],
   "source": [
    "from DisplayPane import DisplayPane\n",
    "from VisionSystem.DataSet import DataSet\n",
    "\n",
    "dset = DataSet('../data/calibration2')\n",
    "frame, _ = next(iter(dset))\n",
    "frame.shape"
   ]
  },
  {
   "cell_type": "code",
   "execution_count": 3,
   "metadata": {},
   "outputs": [],
   "source": [
    "import re\n",
    "\n",
    "all_labels = []\n",
    "rel_coords2pix_coords = {}\n",
    "\n",
    "for frames in dset.labels.values():\n",
    "    for frame in frames:\n",
    "        for type_name, (_, points) in frame.labels.items():\n",
    "            all_labels += points\n",
    "            for point in points:\n",
    "                match = re.search(r'\\((\\d+), (\\d+)\\)', point.coords_str())\n",
    "                pix_coords = int(match.group(1)), int(match.group(2))\n",
    "                \n",
    "                match2 = re.search(r'(\\-?\\d+),(\\-?\\d+)', point.tags['rel_coords'])\n",
    "                rel_coords = float(match2.group(1)), float(match2.group(2))\n",
    "                \n",
    "                if rel_coords in rel_coords2pix_coords:\n",
    "                    rel_coords2pix_coords[rel_coords].append(pix_coords)\n",
    "                else:\n",
    "                    rel_coords2pix_coords[rel_coords] = [pix_coords]"
   ]
  },
  {
   "cell_type": "code",
   "execution_count": 4,
   "metadata": {},
   "outputs": [],
   "source": [
    "from VisionSystem.Label import FrameLabels, Point\n",
    "\n",
    "dset.labels[dset.filepath] = [FrameLabels({dset.filepath: (Point, all_labels)})]"
   ]
  },
  {
   "cell_type": "code",
   "execution_count": 5,
   "metadata": {
    "scrolled": false
   },
   "outputs": [],
   "source": [
    "# display all the raw data to visually identify outliers\n",
    "# DisplayPane(dataset=dset)"
   ]
  },
  {
   "cell_type": "code",
   "execution_count": 6,
   "metadata": {},
   "outputs": [],
   "source": [
    "from statistics import mean\n",
    "\n",
    "# hey - that data is relatively clean! lets average the points that are the same to get rid of overlapping points\n",
    "for rel_coords, points in rel_coords2pix_coords.items():\n",
    "    sum_x, sum_y = 0, 0\n",
    "    for point in points:\n",
    "        x, y = point\n",
    "        sum_x += x\n",
    "        sum_y += y\n",
    "    rel_coords2pix_coords[rel_coords] = int(sum_x / len(points)), int(sum_y / len(points))"
   ]
  },
  {
   "cell_type": "code",
   "execution_count": 7,
   "metadata": {
    "scrolled": false
   },
   "outputs": [
    {
     "data": {
      "application/vnd.jupyter.widget-view+json": {
       "model_id": "367ead30fb51461da99236b0059327e4",
       "version_major": 2,
       "version_minor": 0
      },
      "text/plain": [
       "DisplayPane(children=(HBox(children=(VBox(children=(Figure(fig_margin={'top': 60, 'bottom': 60, 'left': 60, 'r…"
      ]
     },
     "metadata": {},
     "output_type": "display_data"
    }
   ],
   "source": [
    "\n",
    "dset.labels[dset.filepath] = [\n",
    "    FrameLabels({\n",
    "        dset.filepath: (\n",
    "            Point,\n",
    "            [Point(pix_coords) for pix_coords in rel_coords2pix_coords.values()]\n",
    "        )\n",
    "    })\n",
    "]\n",
    "\n",
    "# visually confirm that all points at the same coordinates have been merged\n",
    "DisplayPane(dataset=dset)"
   ]
  },
  {
   "cell_type": "code",
   "execution_count": 8,
   "metadata": {},
   "outputs": [],
   "source": [
    "from cv2 import calibrateCamera, getOptimalNewCameraMatrix, initUndistortRectifyMap, CV_32FC1 as undistort_map_backend\n",
    "import numpy as np\n",
    "\n",
    "bgr, labels = next(iter(dset))\n",
    "y, x, z = bgr.shape\n",
    "resolution = x, y\n",
    "\n",
    "object_points = np.array([[(co[0] * 0.1, co[1] * 0.1) + (0,) for co in rel_coords2pix_coords.keys()]])\n",
    "image_points = np.array([list(rel_coords2pix_coords.values())])\n",
    "\n",
    "ret, cam_mtx, dist_coeffs, _rvecs, _tvecs = calibrateCamera(\n",
    "    objectPoints=object_points.astype(np.float32),\n",
    "    imagePoints=image_points.astype(np.float32),\n",
    "    imageSize=resolution,\n",
    "    cameraMatrix=None,\n",
    "    distCoeffs=None\n",
    ")\n",
    "\n",
    "new_cam_mtx, _roi = getOptimalNewCameraMatrix(cam_mtx, dist_coeffs, resolution, 1, resolution)\n",
    "\n",
    "# # use openCV to use cell-based interpolation homography\n",
    "# undist_map, rectif_map = initUndistortRectifyMap(\n",
    "#     cam_mtx, dist_coeffs, None, new_cam_mtx,\n",
    "#     resolution, undistort_map_backend\n",
    "# )"
   ]
  },
  {
   "cell_type": "code",
   "execution_count": 9,
   "metadata": {},
   "outputs": [
    {
     "data": {
      "application/vnd.jupyter.widget-view+json": {
       "model_id": "10fcb20c3e8a4cd8974ae997e8cdbe18",
       "version_major": 2,
       "version_minor": 0
      },
      "text/plain": [
       "DisplayPane(children=(VBox(children=(Figure(fig_margin={'top': 60, 'bottom': 60, 'left': 60, 'right': 60}, lay…"
      ]
     },
     "metadata": {},
     "output_type": "display_data"
    }
   ],
   "source": [
    "DisplayPane(img=bgr)"
   ]
  },
  {
   "cell_type": "code",
   "execution_count": 10,
   "metadata": {},
   "outputs": [
    {
     "data": {
      "text/plain": [
       "(array([[2.07944316e+03, 0.00000000e+00, 6.48433013e+02],\n",
       "        [0.00000000e+00, 2.08467081e+03, 6.39799003e+02],\n",
       "        [0.00000000e+00, 0.00000000e+00, 1.00000000e+00]]),\n",
       " array([[510.30801392,   0.        , 404.89650131],\n",
       "        [  0.        , 722.31158447, 573.15101777],\n",
       "        [  0.        ,   0.        ,   1.        ]]),\n",
       " array([[-5.01158318e+00,  1.64444118e+01,  7.68400301e-04,\n",
       "         -1.93648970e-03, -2.01211004e+01]]))"
      ]
     },
     "execution_count": 10,
     "metadata": {},
     "output_type": "execute_result"
    }
   ],
   "source": [
    "cam_mtx, new_cam_mtx, dist_coeffs"
   ]
  },
  {
   "cell_type": "code",
   "execution_count": 11,
   "metadata": {},
   "outputs": [
    {
     "data": {
      "application/vnd.jupyter.widget-view+json": {
       "model_id": "4177484278594db48c3d60d643c5ba30",
       "version_major": 2,
       "version_minor": 0
      },
      "text/plain": [
       "DisplayPane(children=(VBox(children=(Figure(fig_margin={'top': 60, 'bottom': 60, 'left': 60, 'right': 60}, lay…"
      ]
     },
     "metadata": {},
     "output_type": "display_data"
    }
   ],
   "source": [
    "import cv2\n",
    "bgr, labels = next(iter(dset))\n",
    "\n",
    "DisplayPane(img=cv2.undistort(bgr, cam_mtx, dist_coeffs, None, new_cam_mtx))"
   ]
  },
  {
   "cell_type": "code",
   "execution_count": 12,
   "metadata": {
    "scrolled": false
   },
   "outputs": [
    {
     "data": {
      "application/vnd.jupyter.widget-view+json": {
       "model_id": "2731e03df20e4a1091156d137616e7db",
       "version_major": 2,
       "version_minor": 0
      },
      "text/plain": [
       "DisplayPane(children=(VBox(children=(Figure(fig_margin={'top': 60, 'bottom': 60, 'left': 60, 'right': 60}, lay…"
      ]
     },
     "metadata": {},
     "output_type": "display_data"
    },
    {
     "data": {
      "application/vnd.jupyter.widget-view+json": {
       "model_id": "355b9bad8b144474a1938127d75d8103",
       "version_major": 2,
       "version_minor": 0
      },
      "text/plain": [
       "interactive(children=(FloatSlider(value=2079.443158004651, description='cam_fx', max=4158.886316009302, min=10…"
      ]
     },
     "metadata": {},
     "output_type": "display_data"
    },
    {
     "data": {
      "text/plain": [
       "<function __main__.undistort(cam_fx=2079.443158004651, cam_fy=2084.670809072715, alpha=1.0, dist_p1=0.0007684003008221206, dist_p2=-0.001936489704360318, dist_k1=-5.0115831768331995, dist_k2=16.444411801975207, dist_k3=-20.12110039346355, dist_k4=1, dist_k5=1, dist_k6=1)>"
      ]
     },
     "execution_count": 12,
     "metadata": {},
     "output_type": "execute_result"
    }
   ],
   "source": [
    "import cv2\n",
    "import ipywidgets as ipy\n",
    "from IPython.display import display\n",
    "from VisionSystem import ColorSpaces\n",
    "\n",
    "pane = DisplayPane(img=bgr)\n",
    "display(pane)\n",
    "\n",
    "kwargs = {\n",
    "    # camera matrix\n",
    "    'cam_fx': 2.07944325e+03,\n",
    "    'cam_fy': 2.08467090e+03,\n",
    "    'cam_cx': 6.48433013e+02,\n",
    "    'cam_cy': 6.39799003e+02,\n",
    "    \n",
    "    # distortion coeffs\n",
    "    'dist_k1': -5.01158356e+00,\n",
    "    'dist_k2': 1.64444140e+01,\n",
    "    'dist_p1': 7.68400444e-04,\n",
    "    'dist_p2': -1.93648972e-03,\n",
    "    'dist_k3': -2.01211042e+01\n",
    "}\n",
    "\n",
    "cam_fx = cam_mtx[0, 0]\n",
    "cam_fy = cam_mtx[1, 1]\n",
    "cam_cx = cam_mtx[0, 2]\n",
    "cam_cy = cam_mtx[1, 2]\n",
    "\n",
    "[[dist_k1], [dist_k2], [dist_p1], [dist_p2], [dist_k3]] = dist_coeffs.T\n",
    "\n",
    "# print('dist_k1', dist_k1)\n",
    "# print('dist_k2', dist_k2)\n",
    "# print('dist_p1', dist_p1)\n",
    "# print('dist_p2', dist_p2)\n",
    "# print('dist_k3', dist_k3)\n",
    "\n",
    "def undistort(cam_fx=cam_fx, cam_fy=cam_fy, alpha=1.0, dist_p1=dist_p1, dist_p2=dist_p2,\n",
    "              dist_k1=dist_k1, dist_k2=dist_k2, dist_k3=dist_k3, dist_k4=1, dist_k5=1, dist_k6=1):\n",
    "    cx, cy = rel_coords2pix_coords[(0, 0)]\n",
    "    cam_mtx = np.array([\n",
    "        [cam_fx, 0, cx],\n",
    "        [0, cam_fy, cy],\n",
    "        [0, 0, 1]\n",
    "    ])\n",
    "    \n",
    "    dist_coeffs2 = np.array([dist_k1, dist_k2, dist_p1, dist_p2, dist_k3, dist_k4, dist_k5, dist_k6]).reshape((1, 8))\n",
    "    \n",
    "    new_cam_mtx, _roi = getOptimalNewCameraMatrix(cam_mtx, dist_coeffs2[:, :5], resolution, alpha, resolution)\n",
    "    \n",
    "    undistorted = cv2.undistort(bgr, cam_mtx, dist_coeffs2, None, new_cam_mtx)\n",
    "    \n",
    "    pane.raw_frame.link(undistorted, ColorSpaces.BGR)\n",
    "    pane.update_data_and_display()\n",
    "\n",
    "\n",
    "# print('dist_k2', dist_k2)\n",
    "# print('dist_p1', dist_p1)\n",
    "# print('dist_p2', dist_p2)\n",
    "# print('dist_k3', dist_k3)\n",
    "ipy.interact(undistort,\n",
    "             cam_fx=ipy.FloatSlider(value=cam_fx, min=0.5*cam_fx, max=2*cam_fx, step=1e-10, readout_format=\".6f\"),\n",
    "             cam_fy=ipy.FloatSlider(value=cam_fy, min=0.5*cam_fy, max=2 * cam_fy, step=1e-10, readout_format=\".6f\"),\n",
    "             alpha=ipy.FloatSlider(value=2, min=0, max=100, step=1e-10, readout_format=\".10f\"),\n",
    "             dist_p1=ipy.FloatSlider(value=0, min=-0.2, max=0.2, step=1e-10, readout_format=\".10f\"),\n",
    "             dist_p2=ipy.FloatSlider(min=-0.2, max=0.2, step=1e-10, readout_format=\".10f\"),\n",
    "             dist_k1=ipy.FloatSlider(value=0, min=-1, max=5, step=1e-10, readout_format=\".10f\"),\n",
    "             dist_k4=ipy.FloatSlider(min=-10, max=10, step=1e-10, readout_format=\".10f\"),\n",
    "             dist_k2=ipy.FloatSlider(value=0, min=-30, max=30, step=1e-10, readout_format=\".10f\"),\n",
    "             dist_k5=ipy.FloatSlider(min=-40, max=40, step=1e-10, readout_format=\".10f\"),\n",
    "             dist_k3=ipy.FloatSlider(value=0, min=2*min(-dist_k3, dist_k3), max=2*max(-dist_k3, dist_k3), step=1e-10, readout_format=\".10f\"),\n",
    "             dist_k6=ipy.FloatSlider(min=-20, max=20, step=1e-10, readout_format=\".10f\"))"
   ]
  },
  {
   "cell_type": "code",
   "execution_count": 13,
   "metadata": {},
   "outputs": [
    {
     "data": {
      "text/plain": [
       "(637, 639)"
      ]
     },
     "execution_count": 13,
     "metadata": {},
     "output_type": "execute_result"
    }
   ],
   "source": [
    "rel_coords2pix_coords[(0, 0)]"
   ]
  },
  {
   "cell_type": "code",
   "execution_count": 14,
   "metadata": {},
   "outputs": [],
   "source": [
    "# notable vals\n",
    "cam_fx = 2079.443158\n",
    "cam_fy = 2084.670809\n",
    "\n",
    "dist_k2 = 18.4562400000"
   ]
  },
  {
   "cell_type": "code",
   "execution_count": 15,
   "metadata": {},
   "outputs": [],
   "source": [
    "cx, cy = rel_coords2pix_coords[(0, 0)]\n",
    "\n",
    "real_dist2img_dist = {}\n",
    "\n",
    "for (dx, dy), (x, y) in rel_coords2pix_coords.items():\n",
    "    real_dist2img_dist[\n",
    "        np.sqrt(pow(dx, 2) + pow(dy, 2))\n",
    "    ] = (\n",
    "        np.sqrt(pow(x - cx, 2) + pow(y - cy, 2))\n",
    "    )\n"
   ]
  },
  {
   "cell_type": "code",
   "execution_count": 16,
   "metadata": {},
   "outputs": [
    {
     "data": {
      "application/vnd.jupyter.widget-view+json": {
       "model_id": "c69b1c8189584558b2f6ee06199df404",
       "version_major": 2,
       "version_minor": 0
      },
      "text/plain": [
       "Figure(axes=[Axis(scale=LinearScale()), Axis(orientation='vertical', scale=LinearScale())], fig_margin={'top':…"
      ]
     },
     "metadata": {},
     "output_type": "display_data"
    }
   ],
   "source": [
    "from bqplot import pyplot as plt\n",
    "\n",
    "fig = plt.figure('real_dists / img_distss')\n",
    "real_dists, img_dists = zip(*list(sorted(real_dist2img_dist.items(), key=lambda item: item[1])))\n",
    "real_dists, img_dists = np.array(real_dists), np.array(img_dists)\n",
    "patch = plt.plot(img_dists, real_dists)\n",
    "fig"
   ]
  },
  {
   "cell_type": "code",
   "execution_count": 17,
   "metadata": {},
   "outputs": [],
   "source": [
    "from scipy.optimize import curve_fit\n",
    "\n",
    "def fit_model(x, a, b, c):\n",
    "    return a * np.exp(b*x) + c\n",
    "\n",
    "RESCALE = 1e2\n",
    "\n",
    "model, cov = curve_fit(fit_model, [dist / RESCALE for dist in img_dists], real_dists)\n",
    "\n",
    "predictions = np.array([fit_model(img_dist / RESCALE, *model) for img_dist in img_dists])\n",
    "patch.y = np.append(patch.y.reshape((1,len(patch.y))), predictions.reshape((1,len(patch.y))), axis=0)"
   ]
  },
  {
   "cell_type": "code",
   "execution_count": 18,
   "metadata": {},
   "outputs": [],
   "source": [
    "with open('data.csv', 'w') as f:\n",
    "    for real_dist, img_dist, pred in zip(real_dists, img_dists, predictions):\n",
    "        f.write(f'{img_dist},{real_dist},{pred}\\n')"
   ]
  },
  {
   "cell_type": "code",
   "execution_count": 19,
   "metadata": {},
   "outputs": [
    {
     "data": {
      "text/plain": [
       "0.9344245742327053"
      ]
     },
     "execution_count": 19,
     "metadata": {},
     "output_type": "execute_result"
    }
   ],
   "source": [
    "fit_model(0, *model)"
   ]
  },
  {
   "cell_type": "code",
   "execution_count": 20,
   "metadata": {},
   "outputs": [
    {
     "name": "stdout",
     "output_type": "stream",
     "text": [
      "(1232, 1281, 3)\n"
     ]
    },
    {
     "data": {
      "application/vnd.jupyter.widget-view+json": {
       "model_id": "8a638ceb7ef14506bff26d572caddc13",
       "version_major": 2,
       "version_minor": 0
      },
      "text/plain": [
       "DisplayPane(children=(VBox(children=(Figure(fig_margin={'top': 60, 'bottom': 60, 'left': 60, 'right': 60}, lay…"
      ]
     },
     "metadata": {},
     "output_type": "display_data"
    }
   ],
   "source": [
    "import cv2\n",
    "\n",
    "img = cv2.imread('../data/calibration/2.png')\n",
    "crop = (0.13, 0), (.9, 1)\n",
    "height, width, _ = img.shape\n",
    "img = img[:, int(0.13 * width):int(.9 * width)]\n",
    "print(img.shape)\n",
    "DisplayPane(img=img)"
   ]
  },
  {
   "cell_type": "code",
   "execution_count": 21,
   "metadata": {},
   "outputs": [],
   "source": [
    "from numpy import *\n",
    "\n",
    "def find_radial_bounding_box(contours, theta, roi_offset):\n",
    "    rx, ry = roi_offset\n",
    "    \n",
    "    min_dist_1, min_dist_2 = 99999999, 999999999\n",
    "    max_dist_1, max_dist_2 = -99999999, -999999999\n",
    "\n",
    "    for contour in contours:\n",
    "        for [[x, y]] in contour:\n",
    "            # relative to camera point (0, 0)\n",
    "            x += rx - cx\n",
    "            y += ry - cy\n",
    "            \n",
    "            # okay so how this algorithm works is best explained by\n",
    "            # a geometry picture which i will put in the report\n",
    "            a = sqrt(pow(x, 2) + pow(y, 2))\n",
    "            direc = arctan2(y, x)\n",
    "            phi = arctan2(y, x) - theta\n",
    "            \n",
    "            dist_1 = a * cos(phi)\n",
    "            dist_2 = a * tan(phi)\n",
    "            \n",
    "            if dist_1 > max_dist_1:\n",
    "                max_dist_1 = dist_1\n",
    "            elif dist_1 < min_dist_1:\n",
    "                min_dist_1 = dist_1\n",
    "            \n",
    "            if dist_2 > max_dist_2:\n",
    "                max_dist_2 = dist_2\n",
    "            elif dist_2 < min_dist_2:\n",
    "                min_dist_2 = dist_2\n",
    "    \n",
    "    # G E O M E T R Y\n",
    "    dirx, diry = cos(theta), sin(theta)\n",
    "    rect_inner_midpoint = (min_dist_1 * dirx), (min_dist_1 * diry)\n",
    "    mx, my = rect_inner_midpoint\n",
    "    \n",
    "    d90 = pi / 2\n",
    "    \n",
    "    left_x, right_x = abs(min_dist_2) * cos(theta + d90), max_dist_2 * cos(theta - d90)\n",
    "    left_y, right_y = abs(min_dist_2) * sin(theta + d90), max_dist_2 * sin(theta - d90)\n",
    "    \n",
    "    bottom_left_corner = (mx + left_x), (my + left_y)\n",
    "    bottom_right_corner = (mx + right_x), (my + right_y)\n",
    "    \n",
    "    rect_outer_midpoint = (max_dist_1 * dirx), (max_dist_1 * diry)\n",
    "    mx, my = rect_outer_midpoint\n",
    "    \n",
    "    top_left_corner = (mx + left_x), (my + left_y)\n",
    "    top_right_corner = (mx + right_x), (my + right_y)\n",
    "    \n",
    "    # uhhuh\n",
    "    return min_dist_1, (top_left_corner, top_right_corner, bottom_right_corner, bottom_left_corner)"
   ]
  },
  {
   "cell_type": "code",
   "execution_count": 22,
   "metadata": {},
   "outputs": [
    {
     "data": {
      "text/plain": [
       "array([0.1407675 , 0.85425173, 0.79365708])"
      ]
     },
     "execution_count": 22,
     "metadata": {},
     "output_type": "execute_result"
    }
   ],
   "source": [
    "def convert_img_dist_to_real_dist(img_dist):\n",
    "    return fit_model(img_dist / RESCALE, *model) / 10\n",
    "model"
   ]
  },
  {
   "cell_type": "code",
   "execution_count": 23,
   "metadata": {},
   "outputs": [],
   "source": [
    "from VisionSystem import VisionSystem, VisualObject\n",
    "from VisionSystem.DetectionModel import ThreshBlob, DetectionResult\n",
    "\n",
    "ball_model = ThreshBlob.load('../models/ball.threshblob.pkl')\n",
    "\n",
    "def apply(frame):\n",
    "    global mask\n",
    "    self = ball_model\n",
    "    mask = self.thresholder.apply(frame)\n",
    "    height, width = mask.shape\n",
    "    params = cv2.SimpleBlobDetector_Params()\n",
    "    for name, val in self.blob_detector_params.items():\n",
    "        setattr(params, name, val)\n",
    "    blob_detector = cv2.SimpleBlobDetector_create(params)\n",
    "\n",
    "    results = []\n",
    "    for keypoint in blob_detector.detect(mask):\n",
    "        x, y = keypoint.pt\n",
    "        x, y = int(x), int(y)\n",
    "\n",
    "        # detect contours to find the true bounding rect\n",
    "        contour_padding = int(keypoint.size * 0.75)\n",
    "        (roi_x1, roi_y1), (roi_x2, roi_y2) = (\n",
    "            (max(x - contour_padding, 0), max(y - contour_padding, 0)),\n",
    "            (min(x + contour_padding, width), min(y + contour_padding, height))\n",
    "        )\n",
    "        \n",
    "        _, contours, _ = cv2.findContours(\n",
    "            mask[roi_y1:roi_y2, roi_x1:roi_x2].copy(),\n",
    "            cv2.RETR_TREE,\n",
    "            cv2.CHAIN_APPROX_SIMPLE\n",
    "        )\n",
    "        theta = arctan2(y - cy, x - cx)\n",
    "        img_dist, ((x1, y1), (x2, y2), (x3, y3), (x4, y4)) =\\\n",
    "            find_radial_bounding_box(contours, theta, (roi_x1, roi_y1))\n",
    "        \n",
    "        coords = \\\n",
    "            (int(x1 + cx), int(y1 + cy)),\\\n",
    "            (int(x2 + cx), int(y2 + cy)),\\\n",
    "            (int(x3 + cx), int(y3 + cy)),\\\n",
    "            (int(x4 + cx), int(y4 + cy))\n",
    "        \n",
    "        result = DetectionResult(\n",
    "            coords=coords,\n",
    "            bitmask=mask\n",
    "        )\n",
    "        result.bearing = -theta # ??? But it works!!!! DOn't TOUCH IT!!!\n",
    "        result.distance = convert_img_dist_to_real_dist(img_dist)\n",
    "        results.append(result)\n",
    "\n",
    "    return results\n",
    "\n",
    "# monkey-patch experiment with theshblob\n",
    "ball_model.apply = apply\n",
    "\n",
    "height, width, _ = bgr.shape\n",
    "\n",
    "ball = VisualObject(\n",
    "    real_size=(0.043, 0.043, 0.043),\n",
    "    detection_model=ball_model,\n",
    "    result_limit=1\n",
    ")\n",
    "vision = VisionSystem(objects_to_track={'ball': ball}, resolution=(width, height))"
   ]
  },
  {
   "cell_type": "code",
   "execution_count": 24,
   "metadata": {
    "scrolled": false
   },
   "outputs": [
    {
     "data": {
      "application/vnd.jupyter.widget-view+json": {
       "model_id": "9c6f39b2dcc24a2bb711ed824033babf",
       "version_major": 2,
       "version_minor": 0
      },
      "text/plain": [
       "DisplayPane(children=(HBox(children=(VBox(children=(Figure(fig_margin={'top': 60, 'bottom': 60, 'left': 60, 'r…"
      ]
     },
     "metadata": {},
     "output_type": "display_data"
    }
   ],
   "source": [
    "from DisplayPane.Interactor.VisionSystemTuner import VisionSystemTuner\n",
    "\n",
    "DisplayPane(vision_system=vision, img=img, interactors=[VisionSystemTuner(vision)])"
   ]
  },
  {
   "cell_type": "code",
   "execution_count": 25,
   "metadata": {},
   "outputs": [
    {
     "data": {
      "text/plain": [
       "(637, 639)"
      ]
     },
     "execution_count": 25,
     "metadata": {},
     "output_type": "execute_result"
    }
   ],
   "source": [
    "cx, cy"
   ]
  },
  {
   "cell_type": "code",
   "execution_count": null,
   "metadata": {},
   "outputs": [],
   "source": []
  }
 ],
 "metadata": {
  "kernelspec": {
   "display_name": "Python 3",
   "language": "python",
   "name": "python3"
  },
  "language_info": {
   "codemirror_mode": {
    "name": "ipython",
    "version": 3
   },
   "file_extension": ".py",
   "mimetype": "text/x-python",
   "name": "python",
   "nbconvert_exporter": "python",
   "pygments_lexer": "ipython3",
   "version": "3.7.3"
  }
 },
 "nbformat": 4,
 "nbformat_minor": 2
}
