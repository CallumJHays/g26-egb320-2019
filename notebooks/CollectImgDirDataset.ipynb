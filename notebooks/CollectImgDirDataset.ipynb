{
 "cells": [
  {
   "cell_type": "code",
   "execution_count": 1,
   "metadata": {},
   "outputs": [],
   "source": [
    "import sys\n",
    "sys.path.append('..')"
   ]
  },
  {
   "cell_type": "code",
   "execution_count": 2,
   "metadata": {},
   "outputs": [
    {
     "data": {
      "application/vnd.jupyter.widget-view+json": {
       "model_id": "e212dd567bf8491ba0e6b85a240c17bb",
       "version_major": 2,
       "version_minor": 0
      },
      "text/plain": [
       "DisplayPane(children=(VBox(children=(Figure(fig_margin={'top': 60, 'bottom': 60, 'left': 60, 'right': 60}, lay…"
      ]
     },
     "metadata": {},
     "output_type": "display_data"
    }
   ],
   "source": [
    "from VisionSystem import VideoStream\n",
    "from DisplayPane import DisplayPane\n",
    "\n",
    "stream = VideoStream(downsample_scale=1, crop=((0.13, 0), (.9, 1)))\n",
    "DisplayPane(video_stream=stream)"
   ]
  },
  {
   "cell_type": "code",
   "execution_count": 6,
   "metadata": {},
   "outputs": [
    {
     "data": {
      "application/vnd.jupyter.widget-view+json": {
       "model_id": "914f13a46efd450b91f1e0ec6d04df7e",
       "version_major": 2,
       "version_minor": 0
      },
      "text/plain": [
       "Button(description='TAKE PHOTO', icon='save', style=ButtonStyle())"
      ]
     },
     "metadata": {},
     "output_type": "display_data"
    },
    {
     "name": "stdout",
     "output_type": "stream",
     "text": [
      "took photo ../data/calibration2/0.png\n",
      "took photo ../data/calibration2/1.png\n"
     ]
    }
   ],
   "source": [
    "import ipywidgets as ipy\n",
    "import cv2\n",
    "from VisionSystem.DetectionModel.ColorSpace import ColorSpaces\n",
    "import os\n",
    "\n",
    "DSET_DIR = '../data/calibration2'\n",
    "dset_idx = 0\n",
    "\n",
    "\n",
    "def take_img_for_dset(_):\n",
    "    global dset_idx\n",
    "    \n",
    "    frame = next(iter(stream))\n",
    "    img = frame.get(ColorSpaces.BGR)\n",
    "    if not os.path.exists(DSET_DIR):\n",
    "        os.makedirs(DSET_DIR)\n",
    "    filepath = f'{DSET_DIR}/{dset_idx}.png'\n",
    "    while(os.path.exists(filepath)):\n",
    "        dset_idx += 1\n",
    "        filepath = f'{DSET_DIR}/{dset_idx}.png'\n",
    "    cv2.imwrite(filepath, img)\n",
    "    print('took photo', filepath)\n",
    "    \n",
    "    \n",
    "\n",
    "button = ipy.Button(description=\"TAKE PHOTO\", icon=\"save\")\n",
    "button.on_click(take_img_for_dset)\n",
    "button"
   ]
  }
 ],
 "metadata": {
  "kernelspec": {
   "display_name": "Python 3",
   "language": "python",
   "name": "python3"
  },
  "language_info": {
   "codemirror_mode": {
    "name": "ipython",
    "version": 3
   },
   "file_extension": ".py",
   "mimetype": "text/x-python",
   "name": "python",
   "nbconvert_exporter": "python",
   "pygments_lexer": "ipython3",
   "version": "3.7.3"
  }
 },
 "nbformat": 4,
 "nbformat_minor": 2
}
