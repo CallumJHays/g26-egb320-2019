{
 "cells": [
  {
   "cell_type": "code",
   "execution_count": 3,
   "metadata": {},
   "outputs": [],
   "source": [
    "import sys\n",
    "sys.path.append('..')"
   ]
  },
  {
   "cell_type": "code",
   "execution_count": 4,
   "metadata": {},
   "outputs": [
    {
     "name": "stdout",
     "output_type": "stream",
     "text": [
      "before {}\n",
      "after {13: ('/home/pi/SoccerRobot/DriveSystem/DriveSystem.py, line 10', <gpiozero.LED object on pin GPIO13, active_high=True, is_active=False>), 26: ('/home/pi/SoccerRobot/DriveSystem/DriveSystem.py, line 12', <gpiozero.LED object on pin GPIO26, active_high=True, is_active=False>)}\n",
      "before {13: ('/home/pi/SoccerRobot/DriveSystem/DriveSystem.py, line 10', <gpiozero.LED object on pin GPIO13, active_high=True, is_active=False>), 26: ('/home/pi/SoccerRobot/DriveSystem/DriveSystem.py, line 12', <gpiozero.LED object on pin GPIO26, active_high=True, is_active=False>)}\n",
      "after {13: ('/home/pi/SoccerRobot/DriveSystem/DriveSystem.py, line 10', <gpiozero.LED object on pin GPIO13, active_high=True, is_active=False>), 26: ('/home/pi/SoccerRobot/DriveSystem/DriveSystem.py, line 12', <gpiozero.LED object on pin GPIO26, active_high=True, is_active=False>), 5: ('/home/pi/SoccerRobot/DriveSystem/DriveSystem.py, line 10', <gpiozero.LED object on pin GPIO5, active_high=True, is_active=False>), 12: ('/home/pi/SoccerRobot/DriveSystem/DriveSystem.py, line 12', <gpiozero.LED object on pin GPIO12, active_high=True, is_active=False>)}\n",
      "before {13: ('/home/pi/SoccerRobot/DriveSystem/DriveSystem.py, line 10', <gpiozero.LED object on pin GPIO13, active_high=True, is_active=False>), 26: ('/home/pi/SoccerRobot/DriveSystem/DriveSystem.py, line 12', <gpiozero.LED object on pin GPIO26, active_high=True, is_active=False>), 5: ('/home/pi/SoccerRobot/DriveSystem/DriveSystem.py, line 10', <gpiozero.LED object on pin GPIO5, active_high=True, is_active=False>), 12: ('/home/pi/SoccerRobot/DriveSystem/DriveSystem.py, line 12', <gpiozero.LED object on pin GPIO12, active_high=True, is_active=False>)}\n",
      "after {13: ('/home/pi/SoccerRobot/DriveSystem/DriveSystem.py, line 10', <gpiozero.LED object on pin GPIO13, active_high=True, is_active=False>), 26: ('/home/pi/SoccerRobot/DriveSystem/DriveSystem.py, line 12', <gpiozero.LED object on pin GPIO26, active_high=True, is_active=False>), 5: ('/home/pi/SoccerRobot/DriveSystem/DriveSystem.py, line 10', <gpiozero.LED object on pin GPIO5, active_high=True, is_active=False>), 12: ('/home/pi/SoccerRobot/DriveSystem/DriveSystem.py, line 12', <gpiozero.LED object on pin GPIO12, active_high=True, is_active=False>), 21: ('/home/pi/SoccerRobot/DriveSystem/DriveSystem.py, line 10', <gpiozero.LED object on pin GPIO21, active_high=True, is_active=False>), 16: ('/home/pi/SoccerRobot/DriveSystem/DriveSystem.py, line 12', <gpiozero.LED object on pin GPIO16, active_high=True, is_active=False>)}\n"
     ]
    }
   ],
   "source": [
    "from VisionSystem import VisionSystem, VideoStream, VisualObject\n",
    "from VisionSystem.DetectionModel import ThreshBlob\n",
    "from DisplayPane import DisplayPane\n",
    "from KickerSystem import KickerSystem\n",
    "from DriveSystem import DriveSystem"
   ]
  },
  {
   "cell_type": "code",
   "execution_count": 5,
   "metadata": {},
   "outputs": [],
   "source": [
    "drive = DriveSystem()\n",
    "kicker = KickerSystem()\n",
    "kicker.setup() # dont ask"
   ]
  },
  {
   "cell_type": "code",
   "execution_count": 6,
   "metadata": {},
   "outputs": [
    {
     "ename": "PiCameraMMALError",
     "evalue": "Failed to enable connection: Out of resources",
     "output_type": "error",
     "traceback": [
      "\u001b[0;31m---------------------------------------------------------------------------\u001b[0m",
      "\u001b[0;31mPiCameraMMALError\u001b[0m                         Traceback (most recent call last)",
      "\u001b[0;32m<ipython-input-6-9af93556efed>\u001b[0m in \u001b[0;36m<module>\u001b[0;34m\u001b[0m\n\u001b[1;32m     29\u001b[0m     )\n\u001b[1;32m     30\u001b[0m \u001b[0;34m\u001b[0m\u001b[0m\n\u001b[0;32m---> 31\u001b[0;31m \u001b[0mvideo\u001b[0m \u001b[0;34m=\u001b[0m \u001b[0mVideoStream\u001b[0m\u001b[0;34m(\u001b[0m\u001b[0mdownsample_scale\u001b[0m\u001b[0;34m=\u001b[0m\u001b[0;36m5\u001b[0m\u001b[0;34m,\u001b[0m \u001b[0mcrop\u001b[0m\u001b[0;34m=\u001b[0m\u001b[0;34m(\u001b[0m\u001b[0;34m(\u001b[0m\u001b[0;36m0.13\u001b[0m\u001b[0;34m,\u001b[0m \u001b[0;36m0\u001b[0m\u001b[0;34m)\u001b[0m\u001b[0;34m,\u001b[0m \u001b[0;34m(\u001b[0m\u001b[0;36m.9\u001b[0m\u001b[0;34m,\u001b[0m \u001b[0;36m1\u001b[0m\u001b[0;34m)\u001b[0m\u001b[0;34m)\u001b[0m\u001b[0;34m)\u001b[0m\u001b[0;34m\u001b[0m\u001b[0m\n\u001b[0m\u001b[1;32m     32\u001b[0m \u001b[0mvision\u001b[0m \u001b[0;34m=\u001b[0m \u001b[0msetup_vision_system\u001b[0m\u001b[0;34m(\u001b[0m\u001b[0mvideo\u001b[0m\u001b[0;34m.\u001b[0m\u001b[0mresolution\u001b[0m\u001b[0;34m)\u001b[0m\u001b[0;34m\u001b[0m\u001b[0m\n",
      "\u001b[0;32m~/SoccerRobot/VisionSystem/VideoStream.py\u001b[0m in \u001b[0;36m__init__\u001b[0;34m(self, video_path, downsample_scale, rotate_90_n, crop)\u001b[0m\n\u001b[1;32m     65\u001b[0m                 ).pad()\n\u001b[1;32m     66\u001b[0m                 self.pi_cam = PiCamera(\n\u001b[0;32m---> 67\u001b[0;31m                     sensor_mode=PI_CAM_SENSOR_MODE, resolution=self.raw_resolution)\n\u001b[0m\u001b[1;32m     68\u001b[0m \u001b[0;34m\u001b[0m\u001b[0m\n\u001b[1;32m     69\u001b[0m                 \u001b[0;31m# TODO: make this config visible to this stream's constructor and as default values\u001b[0m\u001b[0;34m\u001b[0m\u001b[0;34m\u001b[0m\u001b[0m\n",
      "\u001b[0;32m~/berryconda3/lib/python3.6/site-packages/picamera/camera.py\u001b[0m in \u001b[0;36m__init__\u001b[0;34m(self, camera_num, stereo_mode, stereo_decimate, resolution, framerate, sensor_mode, led_pin, clock_mode, framerate_range)\u001b[0m\n\u001b[1;32m    431\u001b[0m             \u001b[0mself\u001b[0m\u001b[0;34m.\u001b[0m\u001b[0m_init_camera\u001b[0m\u001b[0;34m(\u001b[0m\u001b[0mcamera_num\u001b[0m\u001b[0;34m,\u001b[0m \u001b[0mstereo_mode\u001b[0m\u001b[0;34m,\u001b[0m \u001b[0mstereo_decimate\u001b[0m\u001b[0;34m)\u001b[0m\u001b[0;34m\u001b[0m\u001b[0m\n\u001b[1;32m    432\u001b[0m             \u001b[0mself\u001b[0m\u001b[0;34m.\u001b[0m\u001b[0m_configure_camera\u001b[0m\u001b[0;34m(\u001b[0m\u001b[0msensor_mode\u001b[0m\u001b[0;34m,\u001b[0m \u001b[0mframerate\u001b[0m\u001b[0;34m,\u001b[0m \u001b[0mresolution\u001b[0m\u001b[0;34m,\u001b[0m \u001b[0mclock_mode\u001b[0m\u001b[0;34m)\u001b[0m\u001b[0;34m\u001b[0m\u001b[0m\n\u001b[0;32m--> 433\u001b[0;31m             \u001b[0mself\u001b[0m\u001b[0;34m.\u001b[0m\u001b[0m_init_preview\u001b[0m\u001b[0;34m(\u001b[0m\u001b[0;34m)\u001b[0m\u001b[0;34m\u001b[0m\u001b[0m\n\u001b[0m\u001b[1;32m    434\u001b[0m             \u001b[0mself\u001b[0m\u001b[0;34m.\u001b[0m\u001b[0m_init_splitter\u001b[0m\u001b[0;34m(\u001b[0m\u001b[0;34m)\u001b[0m\u001b[0;34m\u001b[0m\u001b[0m\n\u001b[1;32m    435\u001b[0m             \u001b[0mself\u001b[0m\u001b[0;34m.\u001b[0m\u001b[0m_camera\u001b[0m\u001b[0;34m.\u001b[0m\u001b[0menable\u001b[0m\u001b[0;34m(\u001b[0m\u001b[0;34m)\u001b[0m\u001b[0;34m\u001b[0m\u001b[0m\n",
      "\u001b[0;32m~/berryconda3/lib/python3.6/site-packages/picamera/camera.py\u001b[0m in \u001b[0;36m_init_preview\u001b[0;34m(self)\u001b[0m\n\u001b[1;32m    511\u001b[0m         \u001b[0;31m# fade to black (issue #22)\u001b[0m\u001b[0;34m\u001b[0m\u001b[0;34m\u001b[0m\u001b[0m\n\u001b[1;32m    512\u001b[0m         self._preview = PiNullSink(\n\u001b[0;32m--> 513\u001b[0;31m             self, self._camera.outputs[self.CAMERA_PREVIEW_PORT])\n\u001b[0m\u001b[1;32m    514\u001b[0m \u001b[0;34m\u001b[0m\u001b[0m\n\u001b[1;32m    515\u001b[0m     \u001b[0;32mdef\u001b[0m \u001b[0m_start_capture\u001b[0m\u001b[0;34m(\u001b[0m\u001b[0mself\u001b[0m\u001b[0;34m,\u001b[0m \u001b[0mport\u001b[0m\u001b[0;34m)\u001b[0m\u001b[0;34m:\u001b[0m\u001b[0;34m\u001b[0m\u001b[0m\n",
      "\u001b[0;32m~/berryconda3/lib/python3.6/site-packages/picamera/renderers.py\u001b[0m in \u001b[0;36m__init__\u001b[0;34m(self, parent, source)\u001b[0m\n\u001b[1;32m    556\u001b[0m         \u001b[0mself\u001b[0m\u001b[0;34m.\u001b[0m\u001b[0mrenderer\u001b[0m \u001b[0;34m=\u001b[0m \u001b[0mmo\u001b[0m\u001b[0;34m.\u001b[0m\u001b[0mMMALNullSink\u001b[0m\u001b[0;34m(\u001b[0m\u001b[0;34m)\u001b[0m\u001b[0;34m\u001b[0m\u001b[0m\n\u001b[1;32m    557\u001b[0m         \u001b[0mself\u001b[0m\u001b[0;34m.\u001b[0m\u001b[0mrenderer\u001b[0m\u001b[0;34m.\u001b[0m\u001b[0menable\u001b[0m\u001b[0;34m(\u001b[0m\u001b[0;34m)\u001b[0m\u001b[0;34m\u001b[0m\u001b[0m\n\u001b[0;32m--> 558\u001b[0;31m         \u001b[0mself\u001b[0m\u001b[0;34m.\u001b[0m\u001b[0mrenderer\u001b[0m\u001b[0;34m.\u001b[0m\u001b[0minputs\u001b[0m\u001b[0;34m[\u001b[0m\u001b[0;36m0\u001b[0m\u001b[0;34m]\u001b[0m\u001b[0;34m.\u001b[0m\u001b[0mconnect\u001b[0m\u001b[0;34m(\u001b[0m\u001b[0msource\u001b[0m\u001b[0;34m)\u001b[0m\u001b[0;34m.\u001b[0m\u001b[0menable\u001b[0m\u001b[0;34m(\u001b[0m\u001b[0;34m)\u001b[0m\u001b[0;34m\u001b[0m\u001b[0m\n\u001b[0m\u001b[1;32m    559\u001b[0m \u001b[0;34m\u001b[0m\u001b[0m\n\u001b[1;32m    560\u001b[0m     \u001b[0;32mdef\u001b[0m \u001b[0mclose\u001b[0m\u001b[0;34m(\u001b[0m\u001b[0mself\u001b[0m\u001b[0;34m)\u001b[0m\u001b[0;34m:\u001b[0m\u001b[0;34m\u001b[0m\u001b[0m\n",
      "\u001b[0;32m~/berryconda3/lib/python3.6/site-packages/picamera/mmalobj.py\u001b[0m in \u001b[0;36menable\u001b[0;34m(self)\u001b[0m\n\u001b[1;32m   2210\u001b[0m         mmal_check(\n\u001b[1;32m   2211\u001b[0m             \u001b[0mmmal\u001b[0m\u001b[0;34m.\u001b[0m\u001b[0mmmal_connection_enable\u001b[0m\u001b[0;34m(\u001b[0m\u001b[0mself\u001b[0m\u001b[0;34m.\u001b[0m\u001b[0m_connection\u001b[0m\u001b[0;34m)\u001b[0m\u001b[0;34m,\u001b[0m\u001b[0;34m\u001b[0m\u001b[0m\n\u001b[0;32m-> 2212\u001b[0;31m             prefix=\"Failed to enable connection\")\n\u001b[0m\u001b[1;32m   2213\u001b[0m         \u001b[0;32mif\u001b[0m \u001b[0mself\u001b[0m\u001b[0;34m.\u001b[0m\u001b[0m_callback\u001b[0m \u001b[0;32mis\u001b[0m \u001b[0;32mnot\u001b[0m \u001b[0;32mNone\u001b[0m\u001b[0;34m:\u001b[0m\u001b[0;34m\u001b[0m\u001b[0m\n\u001b[1;32m   2214\u001b[0m             \u001b[0mMMALPool\u001b[0m\u001b[0;34m(\u001b[0m\u001b[0mself\u001b[0m\u001b[0;34m.\u001b[0m\u001b[0m_connection\u001b[0m\u001b[0;34m[\u001b[0m\u001b[0;36m0\u001b[0m\u001b[0;34m]\u001b[0m\u001b[0;34m.\u001b[0m\u001b[0mpool\u001b[0m\u001b[0;34m)\u001b[0m\u001b[0;34m.\u001b[0m\u001b[0msend_all_buffers\u001b[0m\u001b[0;34m(\u001b[0m\u001b[0mself\u001b[0m\u001b[0;34m.\u001b[0m\u001b[0m_source\u001b[0m\u001b[0;34m)\u001b[0m\u001b[0;34m\u001b[0m\u001b[0m\n",
      "\u001b[0;32m~/berryconda3/lib/python3.6/site-packages/picamera/exc.py\u001b[0m in \u001b[0;36mmmal_check\u001b[0;34m(status, prefix)\u001b[0m\n\u001b[1;32m    182\u001b[0m     \"\"\"\n\u001b[1;32m    183\u001b[0m     \u001b[0;32mif\u001b[0m \u001b[0mstatus\u001b[0m \u001b[0;34m!=\u001b[0m \u001b[0mmmal\u001b[0m\u001b[0;34m.\u001b[0m\u001b[0mMMAL_SUCCESS\u001b[0m\u001b[0;34m:\u001b[0m\u001b[0;34m\u001b[0m\u001b[0m\n\u001b[0;32m--> 184\u001b[0;31m         \u001b[0;32mraise\u001b[0m \u001b[0mPiCameraMMALError\u001b[0m\u001b[0;34m(\u001b[0m\u001b[0mstatus\u001b[0m\u001b[0;34m,\u001b[0m \u001b[0mprefix\u001b[0m\u001b[0;34m)\u001b[0m\u001b[0;34m\u001b[0m\u001b[0m\n\u001b[0m\u001b[1;32m    185\u001b[0m \u001b[0;34m\u001b[0m\u001b[0m\n",
      "\u001b[0;31mPiCameraMMALError\u001b[0m: Failed to enable connection: Out of resources"
     ]
    }
   ],
   "source": [
    "def load_or_create_new_threshblob(path):\n",
    "    try:\n",
    "        model = ThreshBlob.load(path)\n",
    "        print(\"Loaded \" + path)\n",
    "    except Exception:\n",
    "        model = ThreshBlob()\n",
    "    finally:\n",
    "        return model\n",
    "    \n",
    "\n",
    "def setup_vision_system(resolution):\n",
    "    objects_to_size_and_result_limit = [\n",
    "        (\"ball\", (0.043, 0.043, 0.043), 1),\n",
    "        (\"obstacle\", (0.18, 0.18, 0.2), None),\n",
    "        # 30 centimetres long, 10 cm high? i guess\n",
    "        (\"blue_goal\", (0, 0, 0.1), 1),\n",
    "        (\"yellow_goal\", (0, 0, 0.1), 1)\n",
    "    ]\n",
    "\n",
    "    return VisionSystem(\n",
    "        resolution=resolution,\n",
    "        objects_to_track={\n",
    "            name: VisualObject(\n",
    "                real_size=size,\n",
    "                detection_model=load_or_create_new_threshblob(f\"../models/{name}.threshblob.pkl\"),\n",
    "                result_limit=result_limit\n",
    "            ) for name, size, result_limit in objects_to_size_and_result_limit\n",
    "        }\n",
    "    )\n",
    "\n",
    "video = VideoStream(downsample_scale=5, crop=((0.13, 0), (.9, 1)))\n",
    "vision = setup_vision_system(video.resolution)"
   ]
  },
  {
   "cell_type": "code",
   "execution_count": 5,
   "metadata": {},
   "outputs": [
    {
     "data": {
      "application/vnd.jupyter.widget-view+json": {
       "model_id": "0f64e3006e01405da10aeba7985c0901",
       "version_major": 2,
       "version_minor": 0
      },
      "text/plain": [
       "DisplayPane(children=(HBox(children=(VBox(children=(Figure(fig_margin={'top': 60, 'bottom': 60, 'left': 60, 'r…"
      ]
     },
     "metadata": {},
     "output_type": "display_data"
    }
   ],
   "source": [
    "from DisplayPane.Interactor.VisionSystemTuner import VisionSystemTuner\n",
    "\n",
    "DisplayPane(vision_system=vision, video_stream=video, interactors=[VisionSystemTuner(vision)])"
   ]
  },
  {
   "cell_type": "code",
   "execution_count": 6,
   "metadata": {},
   "outputs": [],
   "source": [
    "# RUN THIS CELL TO SAVE THE MODELs tinkered with\n",
    "for name, obj in vision.objects_to_track.items():\n",
    "    obj.detection_model.save(f\"../models/{name}.threshblob.pkl\")"
   ]
  },
  {
   "cell_type": "code",
   "execution_count": 7,
   "metadata": {},
   "outputs": [],
   "source": [
    "def get_vision_results_vrep_format():\n",
    "    objs = vision.objects_to_track # for shorthand\n",
    "\n",
    "    def vrep_format(bearings_distances, multi=False):\n",
    "        if any(bearings_distances):\n",
    "            if multi:\n",
    "                bds = bearings_distances[::-1]\n",
    "                for idx, (bear, dist) in enumerate(bds):\n",
    "                    bds[idx] = (np.pi - bear), dist\n",
    "                return bds\n",
    "            else:\n",
    "                bear, dist = bearings_distances[0][::-1]\n",
    "                return (np.pi - bear), dist\n",
    "        else:\n",
    "            return None\n",
    "\n",
    "    return (\n",
    "        vrep_format(objs[\"ball\"].bearings_distances),\n",
    "        vrep_format(objs[\"blue_goal\"].bearings_distances),\n",
    "        vrep_format(objs[\"yellow_goal\"].bearings_distances),\n",
    "        vrep_format(objs[\"obstacle\"].bearings_distances, multi=True),\n",
    "    )"
   ]
  },
  {
   "cell_type": "code",
   "execution_count": 8,
   "metadata": {},
   "outputs": [
    {
     "name": "stderr",
     "output_type": "stream",
     "text": [
      "../VisionSystem/DetectionModel/DetectionResult.py:29: RuntimeWarning: overflow encountered in long_scalars\n",
      "  return 0.5*np.abs(np.dot(x, np.roll(y, 1))-np.dot(y, np.roll(x, 1)))\n"
     ]
    },
    {
     "name": "stdout",
     "output_type": "stream",
     "text": [
      "BALL (0.9908634040343494, -0.11252317261277611)\n",
      "set desired motion 1.8369701987210296e-18 -0.03 0.09869604401089359\n",
      "driving left, right, back -0.48270336656492074 0.9268355646139419 0.22206609902451066\n",
      "set desired motion 0 0 0\n",
      "driving left, right, back 0.0 0.0 0.0\n",
      "BALL (0.8926288835269626, 0.5210551891720965)\n",
      "set desired motion 1.8369701987210296e-18 -0.03 0.09869604401089359\n",
      "driving left, right, back -0.48270336656492074 0.9268355646139419 0.22206609902451066\n"
     ]
    },
    {
     "name": "stderr",
     "output_type": "stream",
     "text": [
      "../VisionSystem/DetectionModel/ThreshBlob/ThreshBlob.py:22: RuntimeWarning: overflow encountered in exp\n",
      "  return (0.1407675 * np.exp(0.85425173 * img_dist / RESCALE / frac_of_full_res) + 0.79365708) * DIST_PER_POINT\n"
     ]
    },
    {
     "name": "stdout",
     "output_type": "stream",
     "text": [
      "set desired motion 0 0 0\n",
      "driving left, right, back 0.0 0.0 0.0\n",
      "BALL (0.6968057876920698, 1.1769977129200961)\n",
      "set desired motion 1.8369701987210296e-18 -0.03 0.09869604401089359\n",
      "driving left, right, back -0.48270336656492074 0.9268355646139419 0.22206609902451066\n",
      "set desired motion 0 0 0\n",
      "driving left, right, back 0.0 0.0 0.0\n",
      "BALL (0.26350624288284547, 0.162761793261713)\n",
      "set desired motion 1.8369701987210296e-18 -0.03 0.09869604401089359\n",
      "driving left, right, back -0.48270336656492074 0.9268355646139419 0.22206609902451066\n",
      "set desired motion 0 0 0\n",
      "driving left, right, back 0.0 0.0 0.0\n",
      "BALL (0.28823267147970033, 0.4740445139621182)\n",
      "set desired motion 1.8369701987210296e-18 -0.03 0.09869604401089359\n",
      "driving left, right, back -0.48270336656492074 0.9268355646139419 0.22206609902451066\n",
      "set desired motion 0 0 0\n",
      "driving left, right, back 0.0 0.0 0.0\n",
      "BALL (0.27719261861935823, 0.8515497279175493)\n",
      "set desired motion 1.8369701987210296e-18 -0.03 0.09869604401089359\n",
      "driving left, right, back -0.48270336656492074 0.9268355646139419 0.22206609902451066\n",
      "set desired motion 0 0 0\n",
      "driving left, right, back 0.0 0.0 0.0\n",
      "BALL (0.7939772535280841, 0.8409601070093478)\n",
      "set desired motion 1.8369701987210296e-18 -0.03 0.09869604401089359\n",
      "driving left, right, back -0.48270336656492074 0.9268355646139419 0.22206609902451066\n",
      "set desired motion 0 0 0\n",
      "driving left, right, back 0.0 0.0 0.0\n",
      "BALL (0.9620864671051947, -0.7417747867028122)\n",
      "set desired motion 1.8369701987210296e-18 -0.03 0.09869604401089359\n",
      "driving left, right, back -0.48270336656492074 0.9268355646139419 0.22206609902451066\n",
      "set desired motion 0 0 0\n",
      "driving left, right, back 0.0 0.0 0.0\n",
      "BALL (1.0126119544619336, -0.15959751795503022)\n",
      "set desired motion 1.8369701987210296e-18 -0.03 0.09869604401089359\n",
      "driving left, right, back -0.48270336656492074 0.9268355646139419 0.22206609902451066\n",
      "set desired motion 0 0 0\n",
      "driving left, right, back 0.0 0.0 0.0\n",
      "BALL (0.8941553389470803, 0.39958811932057653)\n",
      "set desired motion 1.8369701987210296e-18 -0.03 0.09869604401089359\n",
      "driving left, right, back -0.48270336656492074 0.9268355646139419 0.22206609902451066\n",
      "set desired motion 0 0 0\n",
      "driving left, right, back 0.0 0.0 0.0\n",
      "BALL (0.7492941701915921, 1.3163977772783744)\n",
      "set desired motion 1.8369701987210296e-18 -0.03 0.09869604401089359\n",
      "driving left, right, back -0.48270336656492074 0.9268355646139419 0.22206609902451066\n",
      "set desired motion 0 0 0\n",
      "driving left, right, back 0.0 0.0 0.0\n"
     ]
    },
    {
     "ename": "KeyboardInterrupt",
     "evalue": "",
     "output_type": "error",
     "traceback": [
      "\u001b[0;31m---------------------------------------------------------------------------\u001b[0m",
      "\u001b[0;31mKeyboardInterrupt\u001b[0m                         Traceback (most recent call last)",
      "\u001b[0;32m<ipython-input-8-b5dd92bfd665>\u001b[0m in \u001b[0;36m<module>\u001b[0;34m\u001b[0m\n\u001b[1;32m      6\u001b[0m \u001b[0;34m\u001b[0m\u001b[0m\n\u001b[1;32m      7\u001b[0m \u001b[0;32mfor\u001b[0m \u001b[0mframe\u001b[0m \u001b[0;32min\u001b[0m \u001b[0mvideo\u001b[0m\u001b[0;34m:\u001b[0m\u001b[0;34m\u001b[0m\u001b[0m\n\u001b[0;32m----> 8\u001b[0;31m     \u001b[0mvision\u001b[0m\u001b[0;34m.\u001b[0m\u001b[0mupdate_with_frame\u001b[0m\u001b[0;34m(\u001b[0m\u001b[0mframe\u001b[0m\u001b[0;34m)\u001b[0m\u001b[0;34m\u001b[0m\u001b[0m\n\u001b[0m\u001b[1;32m      9\u001b[0m \u001b[0;34m\u001b[0m\u001b[0m\n\u001b[1;32m     10\u001b[0m     \u001b[0mball_br\u001b[0m\u001b[0;34m,\u001b[0m \u001b[0mblue_br\u001b[0m\u001b[0;34m,\u001b[0m \u001b[0myellow_br\u001b[0m\u001b[0;34m,\u001b[0m \u001b[0mobstacle_brs\u001b[0m \u001b[0;34m=\u001b[0m \u001b[0mget_vision_results_vrep_format\u001b[0m\u001b[0;34m(\u001b[0m\u001b[0;34m)\u001b[0m\u001b[0;34m\u001b[0m\u001b[0m\n",
      "\u001b[0;32m~/SoccerRobot/VisionSystem/VisionSystem.py\u001b[0m in \u001b[0;36mupdate_with_frame\u001b[0;34m(self, frame)\u001b[0m\n\u001b[1;32m     36\u001b[0m         self.current_results = {\n\u001b[1;32m     37\u001b[0m             \u001b[0mname\u001b[0m\u001b[0;34m:\u001b[0m \u001b[0mobj\u001b[0m\u001b[0;34m.\u001b[0m\u001b[0mupdate_with_frame\u001b[0m\u001b[0;34m(\u001b[0m\u001b[0mframe\u001b[0m\u001b[0;34m)\u001b[0m\u001b[0;34m\u001b[0m\u001b[0m\n\u001b[0;32m---> 38\u001b[0;31m             \u001b[0;32mfor\u001b[0m \u001b[0mname\u001b[0m\u001b[0;34m,\u001b[0m \u001b[0mobj\u001b[0m \u001b[0;32min\u001b[0m \u001b[0mself\u001b[0m\u001b[0;34m.\u001b[0m\u001b[0mobjects_to_track\u001b[0m\u001b[0;34m.\u001b[0m\u001b[0mitems\u001b[0m\u001b[0;34m(\u001b[0m\u001b[0;34m)\u001b[0m\u001b[0;34m\u001b[0m\u001b[0m\n\u001b[0m\u001b[1;32m     39\u001b[0m         }\n\u001b[1;32m     40\u001b[0m \u001b[0;34m\u001b[0m\u001b[0m\n",
      "\u001b[0;32m~/SoccerRobot/VisionSystem/VisionSystem.py\u001b[0m in \u001b[0;36m<dictcomp>\u001b[0;34m(.0)\u001b[0m\n\u001b[1;32m     36\u001b[0m         self.current_results = {\n\u001b[1;32m     37\u001b[0m             \u001b[0mname\u001b[0m\u001b[0;34m:\u001b[0m \u001b[0mobj\u001b[0m\u001b[0;34m.\u001b[0m\u001b[0mupdate_with_frame\u001b[0m\u001b[0;34m(\u001b[0m\u001b[0mframe\u001b[0m\u001b[0;34m)\u001b[0m\u001b[0;34m\u001b[0m\u001b[0m\n\u001b[0;32m---> 38\u001b[0;31m             \u001b[0;32mfor\u001b[0m \u001b[0mname\u001b[0m\u001b[0;34m,\u001b[0m \u001b[0mobj\u001b[0m \u001b[0;32min\u001b[0m \u001b[0mself\u001b[0m\u001b[0;34m.\u001b[0m\u001b[0mobjects_to_track\u001b[0m\u001b[0;34m.\u001b[0m\u001b[0mitems\u001b[0m\u001b[0;34m(\u001b[0m\u001b[0;34m)\u001b[0m\u001b[0;34m\u001b[0m\u001b[0m\n\u001b[0m\u001b[1;32m     39\u001b[0m         }\n\u001b[1;32m     40\u001b[0m \u001b[0;34m\u001b[0m\u001b[0m\n",
      "\u001b[0;32m~/SoccerRobot/VisionSystem/VisualObject.py\u001b[0m in \u001b[0;36mupdate_with_frame\u001b[0;34m(self, frame)\u001b[0m\n\u001b[1;32m     36\u001b[0m     \u001b[0;32mdef\u001b[0m \u001b[0mupdate_with_frame\u001b[0m\u001b[0;34m(\u001b[0m\u001b[0mself\u001b[0m\u001b[0;34m,\u001b[0m \u001b[0mframe\u001b[0m\u001b[0;34m)\u001b[0m\u001b[0;34m:\u001b[0m\u001b[0;34m\u001b[0m\u001b[0m\n\u001b[1;32m     37\u001b[0m         \u001b[0mself\u001b[0m\u001b[0;34m.\u001b[0m\u001b[0mbearings_distances\u001b[0m \u001b[0;34m=\u001b[0m \u001b[0;34m[\u001b[0m\u001b[0;34m]\u001b[0m\u001b[0;34m\u001b[0m\u001b[0m\n\u001b[0;32m---> 38\u001b[0;31m         \u001b[0mself\u001b[0m\u001b[0;34m.\u001b[0m\u001b[0mdetection_results\u001b[0m \u001b[0;34m=\u001b[0m \u001b[0mself\u001b[0m\u001b[0;34m.\u001b[0m\u001b[0mdetection_model\u001b[0m\u001b[0;34m.\u001b[0m\u001b[0mapply\u001b[0m\u001b[0;34m(\u001b[0m\u001b[0mframe\u001b[0m\u001b[0;34m)\u001b[0m\u001b[0;34m\u001b[0m\u001b[0m\n\u001b[0m\u001b[1;32m     39\u001b[0m         self.detection_results = sorted(\n\u001b[1;32m     40\u001b[0m             self.detection_results, key=lambda result: -result.area())\n",
      "\u001b[0;32m~/SoccerRobot/VisionSystem/DetectionModel/ThreshBlob/ThreshBlob.py\u001b[0m in \u001b[0;36mapply\u001b[0;34m(self, frame)\u001b[0m\n\u001b[1;32m     56\u001b[0m \u001b[0;34m\u001b[0m\u001b[0m\n\u001b[1;32m     57\u001b[0m     \u001b[0;32mdef\u001b[0m \u001b[0mapply\u001b[0m\u001b[0;34m(\u001b[0m\u001b[0mself\u001b[0m\u001b[0;34m,\u001b[0m \u001b[0mframe\u001b[0m\u001b[0;34m)\u001b[0m\u001b[0;34m:\u001b[0m\u001b[0;34m\u001b[0m\u001b[0m\n\u001b[0;32m---> 58\u001b[0;31m         \u001b[0mmask\u001b[0m \u001b[0;34m=\u001b[0m \u001b[0mself\u001b[0m\u001b[0;34m.\u001b[0m\u001b[0mthresholder\u001b[0m\u001b[0;34m.\u001b[0m\u001b[0mapply\u001b[0m\u001b[0;34m(\u001b[0m\u001b[0mframe\u001b[0m\u001b[0;34m)\u001b[0m\u001b[0;34m\u001b[0m\u001b[0m\n\u001b[0m\u001b[1;32m     59\u001b[0m         \u001b[0mheight\u001b[0m\u001b[0;34m,\u001b[0m \u001b[0mwidth\u001b[0m \u001b[0;34m=\u001b[0m \u001b[0mmask\u001b[0m\u001b[0;34m.\u001b[0m\u001b[0mshape\u001b[0m\u001b[0;34m\u001b[0m\u001b[0m\n\u001b[1;32m     60\u001b[0m         ignore_mask = cv2.resize(\n",
      "\u001b[0;32m~/SoccerRobot/VisionSystem/DetectionModel/ThreshBlob/Thresholder.py\u001b[0m in \u001b[0;36mapply\u001b[0;34m(self, frame)\u001b[0m\n\u001b[1;32m     73\u001b[0m         \u001b[0mkernel\u001b[0m \u001b[0;34m=\u001b[0m \u001b[0mcv2\u001b[0m\u001b[0;34m.\u001b[0m\u001b[0mgetStructuringElement\u001b[0m\u001b[0;34m(\u001b[0m\u001b[0mcv2\u001b[0m\u001b[0;34m.\u001b[0m\u001b[0mMORPH_ELLIPSE\u001b[0m\u001b[0;34m,\u001b[0m \u001b[0;34m(\u001b[0m\u001b[0;36m5\u001b[0m\u001b[0;34m,\u001b[0m \u001b[0;36m5\u001b[0m\u001b[0;34m)\u001b[0m\u001b[0;34m)\u001b[0m\u001b[0;34m\u001b[0m\u001b[0m\n\u001b[1;32m     74\u001b[0m         \u001b[0;32mif\u001b[0m \u001b[0mself\u001b[0m\u001b[0;34m.\u001b[0m\u001b[0mdilation1\u001b[0m \u001b[0;34m>\u001b[0m \u001b[0;36m0\u001b[0m\u001b[0;34m:\u001b[0m\u001b[0;34m\u001b[0m\u001b[0m\n\u001b[0;32m---> 75\u001b[0;31m             \u001b[0mmask\u001b[0m \u001b[0;34m=\u001b[0m \u001b[0mcv2\u001b[0m\u001b[0;34m.\u001b[0m\u001b[0mdilate\u001b[0m\u001b[0;34m(\u001b[0m\u001b[0mmask\u001b[0m\u001b[0;34m,\u001b[0m \u001b[0mkernel\u001b[0m\u001b[0;34m,\u001b[0m \u001b[0miterations\u001b[0m\u001b[0;34m=\u001b[0m\u001b[0mself\u001b[0m\u001b[0;34m.\u001b[0m\u001b[0mdilation1\u001b[0m\u001b[0;34m)\u001b[0m\u001b[0;34m\u001b[0m\u001b[0m\n\u001b[0m\u001b[1;32m     76\u001b[0m         \u001b[0;32mif\u001b[0m \u001b[0mself\u001b[0m\u001b[0;34m.\u001b[0m\u001b[0merosion1\u001b[0m \u001b[0;34m>\u001b[0m \u001b[0;36m0\u001b[0m\u001b[0;34m:\u001b[0m\u001b[0;34m\u001b[0m\u001b[0m\n\u001b[1;32m     77\u001b[0m             \u001b[0mmask\u001b[0m \u001b[0;34m=\u001b[0m \u001b[0mcv2\u001b[0m\u001b[0;34m.\u001b[0m\u001b[0merode\u001b[0m\u001b[0;34m(\u001b[0m\u001b[0mmask\u001b[0m\u001b[0;34m,\u001b[0m \u001b[0mkernel\u001b[0m\u001b[0;34m,\u001b[0m \u001b[0miterations\u001b[0m\u001b[0;34m=\u001b[0m\u001b[0mself\u001b[0m\u001b[0;34m.\u001b[0m\u001b[0merosion1\u001b[0m\u001b[0;34m)\u001b[0m\u001b[0;34m\u001b[0m\u001b[0m\n",
      "\u001b[0;31mKeyboardInterrupt\u001b[0m: "
     ]
    }
   ],
   "source": [
    "from math import *\n",
    "from time import sleep\n",
    "\n",
    "T_SPEED = 0.03\n",
    "R_SPEED = 0.02\n",
    "\n",
    "for frame in video:\n",
    "    vision.update_with_frame(frame)\n",
    "    \n",
    "    ball_br, blue_br, yellow_br, obstacle_brs = get_vision_results_vrep_format()\n",
    "    \n",
    "    if ball_br is not None:\n",
    "        ball_bear, ball_range = (-pi / 2, 1)\n",
    "        print(\"BALL\", ball_br)\n",
    "        t_speed = T_SPEED if ball_range > 0.3 else ball_range / 0.3 * T_SPEED\n",
    "        r_speed = R_SPEED if ball_bear > 0.5 else ball_bear / 0.5 * R_SPEED\n",
    "        \n",
    "        drive.set_desired_motion(\n",
    "            t_speed * cos(ball_bear),\n",
    "            t_speed * sin(ball_bear),\n",
    "            r_speed * ball_bear)\n",
    "        \n",
    "        sleep(0.2)\n",
    "        \n",
    "        drive.set_desired_motion(0,0,0)\n",
    "        sleep(0.1)\n",
    "        "
   ]
  },
  {
   "cell_type": "code",
   "execution_count": 9,
   "metadata": {},
   "outputs": [
    {
     "name": "stdout",
     "output_type": "stream",
     "text": [
      "set desired motion 0 0 0\n",
      "driving left, right, back 0.0 0.0 0.0\n"
     ]
    }
   ],
   "source": [
    "drive.set_desired_motion(0,0,0)"
   ]
  },
  {
   "cell_type": "code",
   "execution_count": null,
   "metadata": {},
   "outputs": [],
   "source": [
    "# run the kicker\n"
   ]
  }
 ],
 "metadata": {
  "kernelspec": {
   "display_name": "Python 3",
   "language": "python",
   "name": "python3"
  },
  "language_info": {
   "codemirror_mode": {
    "name": "ipython",
    "version": 3
   },
   "file_extension": ".py",
   "mimetype": "text/x-python",
   "name": "python",
   "nbconvert_exporter": "python",
   "pygments_lexer": "ipython3",
   "version": "3.6.1"
  }
 },
 "nbformat": 4,
 "nbformat_minor": 4
}
