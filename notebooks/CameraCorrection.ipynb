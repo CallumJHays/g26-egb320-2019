{
 "cells": [
  {
   "cell_type": "code",
   "execution_count": 1,
   "metadata": {},
   "outputs": [],
   "source": [
    "import sys\n",
    "sys.path.append('..')"
   ]
  },
  {
   "cell_type": "code",
   "execution_count": 2,
   "metadata": {},
   "outputs": [],
   "source": [
    "from VisionSystem.VideoStream import VideoStream\n",
    "from ipywidgets import interact\n",
    "from picamera import PiCamera\n",
    "from DisplayPane import DisplayPane"
   ]
  },
  {
   "cell_type": "code",
   "execution_count": 3,
   "metadata": {},
   "outputs": [
    {
     "name": "stdout",
     "output_type": "stream",
     "text": [
      "resolution (1640, 1232)\n",
      "self.resolution 1664x1232\n"
     ]
    }
   ],
   "source": [
    "stream = VideoStream()"
   ]
  },
  {
   "cell_type": "code",
   "execution_count": 10,
   "metadata": {},
   "outputs": [
    {
     "data": {
      "application/vnd.jupyter.widget-view+json": {
       "model_id": "e4876dc0b6ee4406beb56692d2ec728e",
       "version_major": 2,
       "version_minor": 0
      },
      "text/plain": [
       "interactive(children=(Dropdown(description='iso', index=3, options=(100, 200, 320, 400, 500, 640, 800), value=…"
      ]
     },
     "metadata": {},
     "output_type": "display_data"
    }
   ],
   "source": [
    "EXPOSURE_MODES, AWB_MODES = PiCamera.EXPOSURE_MODES, PiCamera.AWB_MODES\n",
    "pi_cam = stream.pi_cam\n",
    "\n",
    "def modify_picam(iso=400, shutter_speed=16000, exposure_mode='off', \\\n",
    "                 awb_mode='off', red_gain=1.5, blue_gain=2.0, framerate=15):\n",
    "    pi_cam.iso = iso\n",
    "    pi_cam.framerate = framerate\n",
    "    pi_cam.shutter_speed = shutter_speed\n",
    "    pi_cam.exposure_mode = exposure_mode\n",
    "    pi_cam.awb_mode = awb_mode\n",
    "    pi_cam.awb_gains = (red_gain, blue_gain)\n",
    "\n",
    "interact(\n",
    "    modify_picam,\n",
    "    iso=[100, 200, 320, 400, 500, 640, 800],\n",
    "    shutter_speed=(2000, 16000),\n",
    "    exposure_mode=EXPOSURE_MODES.keys(),\n",
    "    awb_mode=AWB_MODES.keys(),\n",
    "    red_gain=(1.0, 6.0, 0.01),\n",
    "    blue_gain=(1.0, 6.0, 0.01),\n",
    "    framerate=(5, 30)\n",
    ")\n",
    "None"
   ]
  },
  {
   "cell_type": "code",
   "execution_count": 12,
   "metadata": {},
   "outputs": [
    {
     "data": {
      "application/vnd.jupyter.widget-view+json": {
       "model_id": "be849fb1ba8a4bb3a7802d1109610a8c",
       "version_major": 2,
       "version_minor": 0
      },
      "text/plain": [
       "DisplayPane(children=(VBox(children=(Figure(fig_margin={'top': 60, 'bottom': 60, 'left': 60, 'right': 60}, lay…"
      ]
     },
     "metadata": {},
     "output_type": "display_data"
    }
   ],
   "source": [
    "DisplayPane(video_stream=stream)"
   ]
  },
  {
   "cell_type": "code",
   "execution_count": 6,
   "metadata": {},
   "outputs": [
    {
     "data": {
      "text/plain": [
       "(Fraction(3, 2), Fraction(2, 1))"
      ]
     },
     "execution_count": 6,
     "metadata": {},
     "output_type": "execute_result"
    }
   ],
   "source": [
    "pi_cam.awb_gains"
   ]
  },
  {
   "cell_type": "code",
   "execution_count": 11,
   "metadata": {},
   "outputs": [
    {
     "data": {
      "text/plain": [
       "PiCameraFraction(5, 1)"
      ]
     },
     "execution_count": 11,
     "metadata": {},
     "output_type": "execute_result"
    }
   ],
   "source": [
    "pi_cam.framerate"
   ]
  },
  {
   "cell_type": "code",
   "execution_count": 7,
   "metadata": {},
   "outputs": [
    {
     "data": {
      "text/plain": [
       "1.98046875"
      ]
     },
     "execution_count": 7,
     "metadata": {},
     "output_type": "execute_result"
    }
   ],
   "source": [
    "507 / 256"
   ]
  }
 ],
 "metadata": {
  "kernelspec": {
   "display_name": "Python 3",
   "language": "python",
   "name": "python3"
  },
  "language_info": {
   "codemirror_mode": {
    "name": "ipython",
    "version": 3
   },
   "file_extension": ".py",
   "mimetype": "text/x-python",
   "name": "python",
   "nbconvert_exporter": "python",
   "pygments_lexer": "ipython3",
   "version": "3.6.1"
  }
 },
 "nbformat": 4,
 "nbformat_minor": 2
}
