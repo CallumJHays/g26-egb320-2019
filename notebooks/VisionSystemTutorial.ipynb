{
 "cells": [
  {
   "cell_type": "code",
   "execution_count": 1,
   "metadata": {},
   "outputs": [],
   "source": [
    "import sys\n",
    "sys.path.append('..')"
   ]
  },
  {
   "cell_type": "code",
   "execution_count": 2,
   "metadata": {},
   "outputs": [],
   "source": [
    "from VisionSystem import VisionSystem, VisualObject, VideoStream\n",
    "from VisionSystem.DetectionModel import ThreshBlob\n",
    "\n",
    "livestream = VideoStream()"
   ]
  },
  {
   "cell_type": "code",
   "execution_count": 3,
   "metadata": {},
   "outputs": [],
   "source": [
    "my_face = VisualObject(real_size=(0.15, 0.1, 0.3), detection_model=ThreshBlob(), result_limit=1)\n",
    "\n",
    "vision = VisionSystem(resolution=livestream.resolution, objects_to_track={'me': my_face})"
   ]
  },
  {
   "cell_type": "code",
   "execution_count": 4,
   "metadata": {
    "scrolled": false
   },
   "outputs": [
    {
     "data": {
      "application/vnd.jupyter.widget-view+json": {
       "model_id": "14e0260b67a34b938f17c45ac8116a0a",
       "version_major": 2,
       "version_minor": 0
      },
      "text/plain": [
       "DisplayPane(children=(HBox(children=(VBox(children=(Figure(fig_margin={'top': 60, 'bottom': 60, 'left': 60, 'r…"
      ]
     },
     "metadata": {},
     "output_type": "display_data"
    }
   ],
   "source": [
    "from DisplayPane import DisplayPane\n",
    "from DisplayPane.Interactor.VisionSystemTuner import VisionSystemTuner\n",
    "\n",
    "tuner = VisionSystemTuner(vision_system=vision)\n",
    "\n",
    "DisplayPane(video_stream=livestream, vision_system=vision, interactors=[tuner])"
   ]
  },
  {
   "cell_type": "code",
   "execution_count": null,
   "metadata": {},
   "outputs": [],
   "source": []
  }
 ],
 "metadata": {
  "kernelspec": {
   "display_name": "Python 3",
   "language": "python",
   "name": "python3"
  },
  "language_info": {
   "codemirror_mode": {
    "name": "ipython",
    "version": 3
   },
   "file_extension": ".py",
   "mimetype": "text/x-python",
   "name": "python",
   "nbconvert_exporter": "python",
   "pygments_lexer": "ipython3",
   "version": "3.7.3"
  }
 },
 "nbformat": 4,
 "nbformat_minor": 2
}
