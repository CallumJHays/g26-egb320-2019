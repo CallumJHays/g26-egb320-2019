{
 "cells": [
  {
   "cell_type": "code",
   "execution_count": 1,
   "metadata": {},
   "outputs": [],
   "source": [
    "import sys\n",
    "\n",
    "sys.path.append('..')"
   ]
  },
  {
   "cell_type": "code",
   "execution_count": 2,
   "metadata": {},
   "outputs": [
    {
     "name": "stdout",
     "output_type": "stream",
     "text": [
      "Loaded ../models/ball.threshblob.pkl\n",
      "Loaded ../models/obstacle.threshblob.pkl\n",
      "Loaded ../models/yellow_goal.threshblob.pkl\n",
      "Loaded ../models/blue_goal.threshblob.pkl\n"
     ]
    }
   ],
   "source": [
    "from VisionSystem import VisionSystem, VisualObject, VideoStream\n",
    "from VisionSystem.DetectionModel import ThreshBlob\n",
    "\n",
    "def load_or_create_new_threshblob(path):\n",
    "    try:\n",
    "        model = ThreshBlob.load(path)\n",
    "        print(\"Loaded \" + path)\n",
    "    except Exception:\n",
    "        model = ThreshBlob()\n",
    "    finally:\n",
    "        return model\n",
    "\n",
    "model_names = [\"ball\", \"obstacle\", \"yellow_goal\", \"blue_goal\"]\n",
    "detection_models = {\n",
    "    model_name: load_or_create_new_threshblob(\"../models/\" + model_name + \".threshblob.pkl\") \\\n",
    "                    for model_name in model_names\n",
    "}\n",
    "\n",
    "objects_to_track = {\n",
    "    name: VisualObject(real_size=(0.043, 0.043, 0.043), detection_model=model, result_limit=1)\n",
    "            for name, model in detection_models.items()\n",
    "}\n",
    "\n",
    "stream = VideoStream(downsample_scale=4)\n",
    "vision_system = VisionSystem(objects_to_track, camera_pixel_width=stream.resolution[0])"
   ]
  },
  {
   "cell_type": "code",
   "execution_count": 3,
   "metadata": {
    "scrolled": false
   },
   "outputs": [
    {
     "data": {
      "application/vnd.jupyter.widget-view+json": {
       "model_id": "22d6d1eb6b0a48f9b594c637acf0a6f4",
       "version_major": 2,
       "version_minor": 0
      },
      "text/plain": [
       "DisplayPane(children=(HBox(children=(VBox(children=(Figure(fig_margin={'top': 60, 'bottom': 60, 'left': 60, 'r…"
      ]
     },
     "metadata": {},
     "output_type": "display_data"
    }
   ],
   "source": [
    "from DisplayPane import DisplayPane\n",
    "from DisplayPane.Interactor import VisionSystemTuner\n",
    "\n",
    "display = DisplayPane(\n",
    "    video_stream=stream,\n",
    "    vision_system=vision_system,\n",
    "    interactors=[VisionSystemTuner(vision_system)]\n",
    ")\n",
    "display"
   ]
  },
  {
   "cell_type": "code",
   "execution_count": 4,
   "metadata": {},
   "outputs": [],
   "source": [
    "# RUN THIS CELL TO SAVE THE MODELs tinkered with\n",
    "for model_name in model_names:\n",
    "    detection_models[model_name].save(\"../models/\" + model_name + \".threshblob.pkl\")"
   ]
  },
  {
   "cell_type": "code",
   "execution_count": 5,
   "metadata": {},
   "outputs": [
    {
     "name": "stdout",
     "output_type": "stream",
     "text": [
      "{'ball': <VisionSystem.VisualObject.VisualObject object at 0x7f5c703ab8d0>, 'obstacle': <VisionSystem.VisualObject.VisualObject object at 0x7f5c703f6630>, 'yellow_goal': <VisionSystem.VisualObject.VisualObject object at 0x7f5c370c6f28>, 'blue_goal': <VisionSystem.VisualObject.VisualObject object at 0x7f5c370d36d8>}\n"
     ]
    }
   ],
   "source": [
    "print(vision_system.objects_to_track)"
   ]
  }
 ],
 "metadata": {
  "kernelspec": {
   "display_name": "Python 3",
   "language": "python",
   "name": "python3"
  },
  "language_info": {
   "codemirror_mode": {
    "name": "ipython",
    "version": 3
   },
   "file_extension": ".py",
   "mimetype": "text/x-python",
   "name": "python",
   "nbconvert_exporter": "python",
   "pygments_lexer": "ipython3",
   "version": "3.7.3"
  }
 },
 "nbformat": 4,
 "nbformat_minor": 2
}
