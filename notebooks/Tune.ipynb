{
 "cells": [
  {
   "cell_type": "code",
   "execution_count": 1,
   "metadata": {},
   "outputs": [],
   "source": [
    "import sys\n",
    "\n",
    "sys.path.append('..')"
   ]
  },
  {
   "cell_type": "code",
   "execution_count": 2,
   "metadata": {},
   "outputs": [
    {
     "name": "stdout",
     "output_type": "stream",
     "text": [
      "Loaded ../models/ball.threshblob.pkl\n",
      "Loaded ../models/obstacle.threshblob.pkl\n"
     ]
    }
   ],
   "source": [
    "from VisionSystem import *\n",
    "from VisionSystem.DetectionModel import *\n",
    "\n",
    "def load_or_create_new_threshblob(path):\n",
    "    try:\n",
    "        model = ThreshBlob.load(path)\n",
    "        print(\"Loaded \" + path)\n",
    "    except Exception:\n",
    "        model = ThreshBlob()\n",
    "    finally:\n",
    "        return model\n",
    "\n",
    "model_names = [\"ball\", \"obstacle\"] # \"blue_goal\", \"yellow_goal\", \n",
    "detection_models = {\n",
    "    model_name: load_or_create_new_threshblob(\"../models/\" + model_name + \".threshblob.pkl\") \\\n",
    "                    for model_name in model_names\n",
    "}\n",
    "\n",
    "objects_to_track = {\n",
    "    name: VisualObject(real_size=(0.043, 0.043, 0.043), detection_model=model, result_limit=1)\n",
    "            for name, model in detection_models.items()\n",
    "}\n",
    "\n",
    "stream = VideoStream(downsample_scale=5, crop=((0.13, 0), (.9, 1)))"
   ]
  },
  {
   "cell_type": "code",
   "execution_count": 3,
   "metadata": {},
   "outputs": [
    {
     "data": {
      "text/plain": [
       "(271, 256)"
      ]
     },
     "execution_count": 3,
     "metadata": {},
     "output_type": "execute_result"
    }
   ],
   "source": [
    "stream.resolution"
   ]
  },
  {
   "cell_type": "code",
   "execution_count": 4,
   "metadata": {},
   "outputs": [],
   "source": [
    "# import cv2\n",
    "# bgr = cv2.imread('../data/calibration/2.png')\n",
    "# crop = (0.13, 0), (.9, 1)\n",
    "# height, width, _ = bgr.shape\n",
    "# bgr = bgr[:, int(0.13 * width):int(.9 * width)]\n",
    "vision_system = VisionSystem(objects_to_track, resolution=stream.resolution)"
   ]
  },
  {
   "cell_type": "code",
   "execution_count": 8,
   "metadata": {
    "scrolled": false
   },
   "outputs": [
    {
     "data": {
      "application/vnd.jupyter.widget-view+json": {
       "model_id": "bb0747911357414c964c05fc3ff98997",
       "version_major": 2,
       "version_minor": 0
      },
      "text/plain": [
       "DisplayPane(children=(HBox(children=(VBox(children=(Figure(fig_margin={'top': 60, 'bottom': 60, 'left': 60, 'r…"
      ]
     },
     "metadata": {},
     "output_type": "display_data"
    }
   ],
   "source": [
    "from DisplayPane import DisplayPane\n",
    "from DisplayPane.Interactor.VisionSystemTuner import VisionSystemTuner\n",
    "\n",
    "display = DisplayPane(\n",
    "    video_stream=stream,\n",
    "    vision_system=vision_system,\n",
    "    interactors=[VisionSystemTuner(vision_system)]\n",
    ")\n",
    "display"
   ]
  },
  {
   "cell_type": "code",
   "execution_count": 7,
   "metadata": {},
   "outputs": [],
   "source": [
    "# RUN THIS CELL TO SAVE THE MODELs tinkered with\n",
    "for model_name in model_names:\n",
    "    detection_models[model_name].save(\"../models/\" + model_name + \".threshblob.pkl\")"
   ]
  }
 ],
 "metadata": {
  "kernelspec": {
   "display_name": "Python 3",
   "language": "python",
   "name": "python3"
  },
  "language_info": {
   "codemirror_mode": {
    "name": "ipython",
    "version": 3
   },
   "file_extension": ".py",
   "mimetype": "text/x-python",
   "name": "python",
   "nbconvert_exporter": "python",
   "pygments_lexer": "ipython3",
   "version": "3.6.1"
  }
 },
 "nbformat": 4,
 "nbformat_minor": 4
}
