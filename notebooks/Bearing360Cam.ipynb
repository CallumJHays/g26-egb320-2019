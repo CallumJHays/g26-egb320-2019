{
 "cells": [
  {
   "cell_type": "code",
   "execution_count": 1,
   "metadata": {},
   "outputs": [],
   "source": [
    "import sys\n",
    "sys.path.append('..')"
   ]
  },
  {
   "cell_type": "code",
   "execution_count": 2,
   "metadata": {},
   "outputs": [],
   "source": [
    "from DisplayPane import DisplayPane"
   ]
  },
  {
   "cell_type": "code",
   "execution_count": 3,
   "metadata": {},
   "outputs": [],
   "source": [
    "from VisionSystem.DetectionModel import ThreshBlob\n",
    "\n",
    "def load_or_create_new_threshblob(path):\n",
    "    try:\n",
    "        model = ThreshBlob.load(path)\n",
    "        print(\"Loaded \" + path)\n",
    "    except Exception:\n",
    "        model = ThreshBlob()\n",
    "    finally:\n",
    "        return model"
   ]
  },
  {
   "cell_type": "code",
   "execution_count": 4,
   "metadata": {
    "scrolled": false
   },
   "outputs": [
    {
     "name": "stdout",
     "output_type": "stream",
     "text": [
      "Loaded ../models/ball.threshblob.pkl\n"
     ]
    },
    {
     "data": {
      "application/vnd.jupyter.widget-view+json": {
       "model_id": "fedc06d517c744368fcb1bb55de7ba28",
       "version_major": 2,
       "version_minor": 0
      },
      "text/plain": [
       "DisplayPane(children=(HBox(children=(VBox(children=(Figure(fig_margin={'top': 60, 'bottom': 60, 'left': 60, 'r…"
      ]
     },
     "metadata": {},
     "output_type": "display_data"
    }
   ],
   "source": [
    "from VisionSystem import VisualObject, VisionSystem\n",
    "from DisplayPane.Interactor.VisionSystemTuner import VisionSystemTuner\n",
    "import cv2\n",
    "DOWNSAMPLE_SCALE = 8\n",
    "\n",
    "bgr = cv2.imread('../data/calibration/1.png')\n",
    "height, width, _ = bgr.shape\n",
    "bgr = cv2.resize(bgr, (width // DOWNSAMPLE_SCALE, height // DOWNSAMPLE_SCALE))\n",
    "objects_to_track = {\n",
    "    'ball': VisualObject(real_size=(0.043, 0.043, 0.043),\n",
    "                         detection_model=load_or_create_new_threshblob(f\"../models/ball.threshblob.pkl\"),\n",
    "                         result_limit=1)\n",
    "}\n",
    "height, width, _ = bgr.shape\n",
    "vision_system = VisionSystem(objects_to_track, resolution=(width, height))\n",
    "DisplayPane(img=bgr, vision_system=vision_system, interactors=[VisionSystemTuner(vision_system)])"
   ]
  },
  {
   "cell_type": "code",
   "execution_count": 5,
   "metadata": {},
   "outputs": [],
   "source": [
    "objects_to_track['ball'].detection_model.save(\"../models/ball.threshblob.pkl\")"
   ]
  },
  {
   "cell_type": "code",
   "execution_count": null,
   "metadata": {},
   "outputs": [],
   "source": []
  }
 ],
 "metadata": {
  "kernelspec": {
   "display_name": "Python 3",
   "language": "python",
   "name": "python3"
  },
  "language_info": {
   "codemirror_mode": {
    "name": "ipython",
    "version": 3
   },
   "file_extension": ".py",
   "mimetype": "text/x-python",
   "name": "python",
   "nbconvert_exporter": "python",
   "pygments_lexer": "ipython3",
   "version": "3.6.1"
  }
 },
 "nbformat": 4,
 "nbformat_minor": 2
}
