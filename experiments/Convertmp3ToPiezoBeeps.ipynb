{
 "cells": [
  {
   "cell_type": "code",
   "execution_count": 1,
   "metadata": {},
   "outputs": [],
   "source": [
    "import sys\n",
    "\n",
    "sys.path.append('..')"
   ]
  },
  {
   "cell_type": "code",
   "execution_count": 2,
   "metadata": {},
   "outputs": [
    {
     "name": "stdout",
     "output_type": "stream",
     "text": [
      "It exists\n"
     ]
    }
   ],
   "source": [
    "import librosa\n",
    "from pathlib import Path\n",
    "import numpy as np\n",
    "\n",
    "CENTROIDS_PATH = Path('../data/centroids.npy')\n",
    "\n",
    "if CENTROIDS_PATH.exists():\n",
    "    print(\"It exists\")\n",
    "    centroids = np.load(CENTROIDS_PATH)\n",
    "else:\n",
    "    y, sr = librosa.load(\"../data/ImperialMarch.mp3\")\n",
    "    centroids = librosa.feature.spectral_centroid(y, sr)[0]\n",
    "    np.save(CENTROIDS_PATH, centroids)"
   ]
  },
  {
   "cell_type": "code",
   "execution_count": 3,
   "metadata": {
    "scrolled": true
   },
   "outputs": [],
   "source": [
    "# import librosa.display\n",
    "# %matplotlib inline\n",
    "# import matplotlib.pyplot as plt\n",
    "# plt.rcParams['figure.figsize'] = [18, 5]\n",
    "\n",
    "# plt.plot(centroids)"
   ]
  },
  {
   "cell_type": "code",
   "execution_count": 4,
   "metadata": {},
   "outputs": [],
   "source": [
    "# # y, sr = librosa.load(\"../data/ImperialMarch.mp3\")\n",
    "# # librosa.display.specshow(librosa.feature.melspectrogram(y, sr, power=1))\n",
    "# cqt = librosa.feature.chroma_cqt(y, sr)\n",
    "# librosa.display.specshow(cqt)"
   ]
  },
  {
   "cell_type": "code",
   "execution_count": 5,
   "metadata": {},
   "outputs": [],
   "source": [
    "# cqt.shape"
   ]
  },
  {
   "cell_type": "code",
   "execution_count": 6,
   "metadata": {},
   "outputs": [
    {
     "name": "stdout",
     "output_type": "stream",
     "text": [
      "before {}\n",
      "after {}\n"
     ]
    }
   ],
   "source": [
    "from PiezoSpeaker import PiezoSpeaker\n",
    "import asyncio\n",
    "VOLUME = 5\n",
    "speaker = PiezoSpeaker(18, volume=VOLUME)"
   ]
  },
  {
   "cell_type": "code",
   "execution_count": null,
   "metadata": {},
   "outputs": [
    {
     "name": "stdout",
     "output_type": "stream",
     "text": [
      "loading mp3\n",
      "computing centroids\n"
     ]
    }
   ],
   "source": [
    "await speaker.play(\"../data/ImperialMarch.mp3\")"
   ]
  },
  {
   "cell_type": "code",
   "execution_count": null,
   "metadata": {},
   "outputs": [],
   "source": [
    "# MARY_HAD_A_LITTLE_LAMB = \"EDCDEEE CCC EGG EDCDEEEEDDEDC\"\n",
    "\n",
    "# await speaker.play_notes(MARY_HAD_A_LITTLE_LAMB, 0.25)"
   ]
  },
  {
   "cell_type": "code",
   "execution_count": null,
   "metadata": {},
   "outputs": [],
   "source": [
    "# from RPi import GPIO as RPIO"
   ]
  },
  {
   "cell_type": "code",
   "execution_count": null,
   "metadata": {},
   "outputs": [],
   "source": [
    "# RPIO.setmode(RPIO.BCM)\n",
    "# RPIO.setup(18, RPIO.OUT)\n",
    "# pwm = RPIO.PWM(18, 440)"
   ]
  },
  {
   "cell_type": "code",
   "execution_count": null,
   "metadata": {
    "scrolled": true
   },
   "outputs": [],
   "source": [
    "# import GPIO\n",
    "# PIEZO_PIN = 18\n",
    "\n",
    "# pwm = GPIO.PWM(PIEZO_PIN)"
   ]
  },
  {
   "cell_type": "code",
   "execution_count": null,
   "metadata": {},
   "outputs": [],
   "source": [
    "# def test_piezo_pwm(frequency, volume):\n",
    "#     pwm.ChangeFrequency(frequency)\n",
    "#     pwm.start(volume)"
   ]
  },
  {
   "cell_type": "code",
   "execution_count": null,
   "metadata": {},
   "outputs": [],
   "source": [
    "# from ipywidgets import interact\n",
    "\n",
    "# interact(test_piezo_pwm, frequency=(1, 8000), volume=(0.0, 1.0, 0.001))"
   ]
  },
  {
   "cell_type": "code",
   "execution_count": null,
   "metadata": {},
   "outputs": [],
   "source": [
    "# pwm.start(VOLUME)\n",
    "# await asyncio.sleep(0.5)\n",
    "# pwm.stop()"
   ]
  }
 ],
 "metadata": {
  "kernelspec": {
   "display_name": "Python 3",
   "language": "python",
   "name": "python3"
  },
  "language_info": {
   "codemirror_mode": {
    "name": "ipython",
    "version": 3
   },
   "file_extension": ".py",
   "mimetype": "text/x-python",
   "name": "python",
   "nbconvert_exporter": "python",
   "pygments_lexer": "ipython3",
   "version": "3.6.1"
  }
 },
 "nbformat": 4,
 "nbformat_minor": 2
}
